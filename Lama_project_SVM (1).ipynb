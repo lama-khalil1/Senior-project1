{
  "nbformat": 4,
  "nbformat_minor": 0,
  "metadata": {
    "colab": {
      "provenance": []
    },
    "kernelspec": {
      "name": "python3",
      "display_name": "Python 3"
    },
    "language_info": {
      "name": "python"
    }
  },
  "cells": [
    {
      "cell_type": "code",
      "execution_count": 1,
      "metadata": {
        "colab": {
          "base_uri": "https://localhost:8080/"
        },
        "id": "-bErCylW0wgl",
        "outputId": "ac2eaea4-29dc-4baa-cdd9-0212e517484f"
      },
      "outputs": [
        {
          "output_type": "stream",
          "name": "stderr",
          "text": [
            "[nltk_data] Downloading package stopwords to /root/nltk_data...\n",
            "[nltk_data]   Unzipping corpora/stopwords.zip.\n"
          ]
        },
        {
          "output_type": "execute_result",
          "data": {
            "text/plain": [
              "True"
            ]
          },
          "metadata": {},
          "execution_count": 1
        }
      ],
      "source": [
        "import numpy as np\n",
        "import pandas as pd\n",
        "import seaborn as sns\n",
        "import matplotlib.pyplot as plt\n",
        "import nltk\n",
        "from nltk.tokenize import word_tokenize\n",
        "import re\n",
        "import string\n",
        "from nltk.corpus import stopwords\n",
        "nltk.download('stopwords')"
      ]
    },
    {
      "cell_type": "code",
      "source": [
        "df = pd.read_csv('/content/SP data - الورقة1.csv')"
      ],
      "metadata": {
        "id": "NpI4VEck15ao"
      },
      "execution_count": 2,
      "outputs": []
    },
    {
      "cell_type": "code",
      "source": [
        "df"
      ],
      "metadata": {
        "colab": {
          "base_uri": "https://localhost:8080/",
          "height": 423
        },
        "id": "IRD9SFO8170U",
        "outputId": "873714d2-13c2-44b8-9392-26f865fcfc1e"
      },
      "execution_count": 3,
      "outputs": [
        {
          "output_type": "execute_result",
          "data": {
            "text/plain": [
              "                                                 Ticket            Authority\n",
              "0     السلام عليكم . سنتر جديد وعروض خياليه تتسبب بز...        وزارة التجارة\n",
              "1     السلام عليكم ورحمة الله وبركاته خوتم مباركه لد...        وزارة التجارة\n",
              "2              لي شحنه شي ان لها استرجاع من شركة ايمايل  الهيئة العامة للنقل\n",
              "3     تم تزويدكم برقم الهاتف والإسم حسب طلبكم بالخاص...        وزارة التجارة\n",
              "4     السلام عليكم ورحمة الله وبركاته، يا اخوان لي ا...        وزارة التجارة\n",
              "...                                                 ...                  ...\n",
              "1999  لم يتم تسليم الطلبية بشكل كامل من قبل تطبيق هن...  الهيئة العامة للنقل\n",
              "2000  تم إلغاء رحلتي مع تطبيق أوبر بدون أي تنبيه مسب...  الهيئة العامة للنقل\n",
              "2001  تأخرت شحنتي لمدة أسبوع دون أي تحديث أو توضيح م...  الهيئة العامة للنقل\n",
              "2002  تم فقدان طردي في الطريق من قبل شركة الشحن أرام...  الهيئة العامة للنقل\n",
              "2003  لم يلتزم سائق أوبر بالمسار المحدد، مما تسبب في...  الهيئة العامة للنقل\n",
              "\n",
              "[2004 rows x 2 columns]"
            ],
            "text/html": [
              "\n",
              "  <div id=\"df-9c3b367c-6b3a-4201-8b6a-aab9cd0db10a\" class=\"colab-df-container\">\n",
              "    <div>\n",
              "<style scoped>\n",
              "    .dataframe tbody tr th:only-of-type {\n",
              "        vertical-align: middle;\n",
              "    }\n",
              "\n",
              "    .dataframe tbody tr th {\n",
              "        vertical-align: top;\n",
              "    }\n",
              "\n",
              "    .dataframe thead th {\n",
              "        text-align: right;\n",
              "    }\n",
              "</style>\n",
              "<table border=\"1\" class=\"dataframe\">\n",
              "  <thead>\n",
              "    <tr style=\"text-align: right;\">\n",
              "      <th></th>\n",
              "      <th>Ticket</th>\n",
              "      <th>Authority</th>\n",
              "    </tr>\n",
              "  </thead>\n",
              "  <tbody>\n",
              "    <tr>\n",
              "      <th>0</th>\n",
              "      <td>السلام عليكم . سنتر جديد وعروض خياليه تتسبب بز...</td>\n",
              "      <td>وزارة التجارة</td>\n",
              "    </tr>\n",
              "    <tr>\n",
              "      <th>1</th>\n",
              "      <td>السلام عليكم ورحمة الله وبركاته خوتم مباركه لد...</td>\n",
              "      <td>وزارة التجارة</td>\n",
              "    </tr>\n",
              "    <tr>\n",
              "      <th>2</th>\n",
              "      <td>لي شحنه شي ان لها استرجاع من شركة ايمايل</td>\n",
              "      <td>الهيئة العامة للنقل</td>\n",
              "    </tr>\n",
              "    <tr>\n",
              "      <th>3</th>\n",
              "      <td>تم تزويدكم برقم الهاتف والإسم حسب طلبكم بالخاص...</td>\n",
              "      <td>وزارة التجارة</td>\n",
              "    </tr>\n",
              "    <tr>\n",
              "      <th>4</th>\n",
              "      <td>السلام عليكم ورحمة الله وبركاته، يا اخوان لي ا...</td>\n",
              "      <td>وزارة التجارة</td>\n",
              "    </tr>\n",
              "    <tr>\n",
              "      <th>...</th>\n",
              "      <td>...</td>\n",
              "      <td>...</td>\n",
              "    </tr>\n",
              "    <tr>\n",
              "      <th>1999</th>\n",
              "      <td>لم يتم تسليم الطلبية بشكل كامل من قبل تطبيق هن...</td>\n",
              "      <td>الهيئة العامة للنقل</td>\n",
              "    </tr>\n",
              "    <tr>\n",
              "      <th>2000</th>\n",
              "      <td>تم إلغاء رحلتي مع تطبيق أوبر بدون أي تنبيه مسب...</td>\n",
              "      <td>الهيئة العامة للنقل</td>\n",
              "    </tr>\n",
              "    <tr>\n",
              "      <th>2001</th>\n",
              "      <td>تأخرت شحنتي لمدة أسبوع دون أي تحديث أو توضيح م...</td>\n",
              "      <td>الهيئة العامة للنقل</td>\n",
              "    </tr>\n",
              "    <tr>\n",
              "      <th>2002</th>\n",
              "      <td>تم فقدان طردي في الطريق من قبل شركة الشحن أرام...</td>\n",
              "      <td>الهيئة العامة للنقل</td>\n",
              "    </tr>\n",
              "    <tr>\n",
              "      <th>2003</th>\n",
              "      <td>لم يلتزم سائق أوبر بالمسار المحدد، مما تسبب في...</td>\n",
              "      <td>الهيئة العامة للنقل</td>\n",
              "    </tr>\n",
              "  </tbody>\n",
              "</table>\n",
              "<p>2004 rows × 2 columns</p>\n",
              "</div>\n",
              "    <div class=\"colab-df-buttons\">\n",
              "\n",
              "  <div class=\"colab-df-container\">\n",
              "    <button class=\"colab-df-convert\" onclick=\"convertToInteractive('df-9c3b367c-6b3a-4201-8b6a-aab9cd0db10a')\"\n",
              "            title=\"Convert this dataframe to an interactive table.\"\n",
              "            style=\"display:none;\">\n",
              "\n",
              "  <svg xmlns=\"http://www.w3.org/2000/svg\" height=\"24px\" viewBox=\"0 -960 960 960\">\n",
              "    <path d=\"M120-120v-720h720v720H120Zm60-500h600v-160H180v160Zm220 220h160v-160H400v160Zm0 220h160v-160H400v160ZM180-400h160v-160H180v160Zm440 0h160v-160H620v160ZM180-180h160v-160H180v160Zm440 0h160v-160H620v160Z\"/>\n",
              "  </svg>\n",
              "    </button>\n",
              "\n",
              "  <style>\n",
              "    .colab-df-container {\n",
              "      display:flex;\n",
              "      gap: 12px;\n",
              "    }\n",
              "\n",
              "    .colab-df-convert {\n",
              "      background-color: #E8F0FE;\n",
              "      border: none;\n",
              "      border-radius: 50%;\n",
              "      cursor: pointer;\n",
              "      display: none;\n",
              "      fill: #1967D2;\n",
              "      height: 32px;\n",
              "      padding: 0 0 0 0;\n",
              "      width: 32px;\n",
              "    }\n",
              "\n",
              "    .colab-df-convert:hover {\n",
              "      background-color: #E2EBFA;\n",
              "      box-shadow: 0px 1px 2px rgba(60, 64, 67, 0.3), 0px 1px 3px 1px rgba(60, 64, 67, 0.15);\n",
              "      fill: #174EA6;\n",
              "    }\n",
              "\n",
              "    .colab-df-buttons div {\n",
              "      margin-bottom: 4px;\n",
              "    }\n",
              "\n",
              "    [theme=dark] .colab-df-convert {\n",
              "      background-color: #3B4455;\n",
              "      fill: #D2E3FC;\n",
              "    }\n",
              "\n",
              "    [theme=dark] .colab-df-convert:hover {\n",
              "      background-color: #434B5C;\n",
              "      box-shadow: 0px 1px 3px 1px rgba(0, 0, 0, 0.15);\n",
              "      filter: drop-shadow(0px 1px 2px rgba(0, 0, 0, 0.3));\n",
              "      fill: #FFFFFF;\n",
              "    }\n",
              "  </style>\n",
              "\n",
              "    <script>\n",
              "      const buttonEl =\n",
              "        document.querySelector('#df-9c3b367c-6b3a-4201-8b6a-aab9cd0db10a button.colab-df-convert');\n",
              "      buttonEl.style.display =\n",
              "        google.colab.kernel.accessAllowed ? 'block' : 'none';\n",
              "\n",
              "      async function convertToInteractive(key) {\n",
              "        const element = document.querySelector('#df-9c3b367c-6b3a-4201-8b6a-aab9cd0db10a');\n",
              "        const dataTable =\n",
              "          await google.colab.kernel.invokeFunction('convertToInteractive',\n",
              "                                                    [key], {});\n",
              "        if (!dataTable) return;\n",
              "\n",
              "        const docLinkHtml = 'Like what you see? Visit the ' +\n",
              "          '<a target=\"_blank\" href=https://colab.research.google.com/notebooks/data_table.ipynb>data table notebook</a>'\n",
              "          + ' to learn more about interactive tables.';\n",
              "        element.innerHTML = '';\n",
              "        dataTable['output_type'] = 'display_data';\n",
              "        await google.colab.output.renderOutput(dataTable, element);\n",
              "        const docLink = document.createElement('div');\n",
              "        docLink.innerHTML = docLinkHtml;\n",
              "        element.appendChild(docLink);\n",
              "      }\n",
              "    </script>\n",
              "  </div>\n",
              "\n",
              "\n",
              "<div id=\"df-6cdade19-5251-4433-b17d-af60837eb275\">\n",
              "  <button class=\"colab-df-quickchart\" onclick=\"quickchart('df-6cdade19-5251-4433-b17d-af60837eb275')\"\n",
              "            title=\"Suggest charts\"\n",
              "            style=\"display:none;\">\n",
              "\n",
              "<svg xmlns=\"http://www.w3.org/2000/svg\" height=\"24px\"viewBox=\"0 0 24 24\"\n",
              "     width=\"24px\">\n",
              "    <g>\n",
              "        <path d=\"M19 3H5c-1.1 0-2 .9-2 2v14c0 1.1.9 2 2 2h14c1.1 0 2-.9 2-2V5c0-1.1-.9-2-2-2zM9 17H7v-7h2v7zm4 0h-2V7h2v10zm4 0h-2v-4h2v4z\"/>\n",
              "    </g>\n",
              "</svg>\n",
              "  </button>\n",
              "\n",
              "<style>\n",
              "  .colab-df-quickchart {\n",
              "      --bg-color: #E8F0FE;\n",
              "      --fill-color: #1967D2;\n",
              "      --hover-bg-color: #E2EBFA;\n",
              "      --hover-fill-color: #174EA6;\n",
              "      --disabled-fill-color: #AAA;\n",
              "      --disabled-bg-color: #DDD;\n",
              "  }\n",
              "\n",
              "  [theme=dark] .colab-df-quickchart {\n",
              "      --bg-color: #3B4455;\n",
              "      --fill-color: #D2E3FC;\n",
              "      --hover-bg-color: #434B5C;\n",
              "      --hover-fill-color: #FFFFFF;\n",
              "      --disabled-bg-color: #3B4455;\n",
              "      --disabled-fill-color: #666;\n",
              "  }\n",
              "\n",
              "  .colab-df-quickchart {\n",
              "    background-color: var(--bg-color);\n",
              "    border: none;\n",
              "    border-radius: 50%;\n",
              "    cursor: pointer;\n",
              "    display: none;\n",
              "    fill: var(--fill-color);\n",
              "    height: 32px;\n",
              "    padding: 0;\n",
              "    width: 32px;\n",
              "  }\n",
              "\n",
              "  .colab-df-quickchart:hover {\n",
              "    background-color: var(--hover-bg-color);\n",
              "    box-shadow: 0 1px 2px rgba(60, 64, 67, 0.3), 0 1px 3px 1px rgba(60, 64, 67, 0.15);\n",
              "    fill: var(--button-hover-fill-color);\n",
              "  }\n",
              "\n",
              "  .colab-df-quickchart-complete:disabled,\n",
              "  .colab-df-quickchart-complete:disabled:hover {\n",
              "    background-color: var(--disabled-bg-color);\n",
              "    fill: var(--disabled-fill-color);\n",
              "    box-shadow: none;\n",
              "  }\n",
              "\n",
              "  .colab-df-spinner {\n",
              "    border: 2px solid var(--fill-color);\n",
              "    border-color: transparent;\n",
              "    border-bottom-color: var(--fill-color);\n",
              "    animation:\n",
              "      spin 1s steps(1) infinite;\n",
              "  }\n",
              "\n",
              "  @keyframes spin {\n",
              "    0% {\n",
              "      border-color: transparent;\n",
              "      border-bottom-color: var(--fill-color);\n",
              "      border-left-color: var(--fill-color);\n",
              "    }\n",
              "    20% {\n",
              "      border-color: transparent;\n",
              "      border-left-color: var(--fill-color);\n",
              "      border-top-color: var(--fill-color);\n",
              "    }\n",
              "    30% {\n",
              "      border-color: transparent;\n",
              "      border-left-color: var(--fill-color);\n",
              "      border-top-color: var(--fill-color);\n",
              "      border-right-color: var(--fill-color);\n",
              "    }\n",
              "    40% {\n",
              "      border-color: transparent;\n",
              "      border-right-color: var(--fill-color);\n",
              "      border-top-color: var(--fill-color);\n",
              "    }\n",
              "    60% {\n",
              "      border-color: transparent;\n",
              "      border-right-color: var(--fill-color);\n",
              "    }\n",
              "    80% {\n",
              "      border-color: transparent;\n",
              "      border-right-color: var(--fill-color);\n",
              "      border-bottom-color: var(--fill-color);\n",
              "    }\n",
              "    90% {\n",
              "      border-color: transparent;\n",
              "      border-bottom-color: var(--fill-color);\n",
              "    }\n",
              "  }\n",
              "</style>\n",
              "\n",
              "  <script>\n",
              "    async function quickchart(key) {\n",
              "      const quickchartButtonEl =\n",
              "        document.querySelector('#' + key + ' button');\n",
              "      quickchartButtonEl.disabled = true;  // To prevent multiple clicks.\n",
              "      quickchartButtonEl.classList.add('colab-df-spinner');\n",
              "      try {\n",
              "        const charts = await google.colab.kernel.invokeFunction(\n",
              "            'suggestCharts', [key], {});\n",
              "      } catch (error) {\n",
              "        console.error('Error during call to suggestCharts:', error);\n",
              "      }\n",
              "      quickchartButtonEl.classList.remove('colab-df-spinner');\n",
              "      quickchartButtonEl.classList.add('colab-df-quickchart-complete');\n",
              "    }\n",
              "    (() => {\n",
              "      let quickchartButtonEl =\n",
              "        document.querySelector('#df-6cdade19-5251-4433-b17d-af60837eb275 button');\n",
              "      quickchartButtonEl.style.display =\n",
              "        google.colab.kernel.accessAllowed ? 'block' : 'none';\n",
              "    })();\n",
              "  </script>\n",
              "</div>\n",
              "\n",
              "  <div id=\"id_bda9d237-5d4a-4f48-88df-6c78580c6f1c\">\n",
              "    <style>\n",
              "      .colab-df-generate {\n",
              "        background-color: #E8F0FE;\n",
              "        border: none;\n",
              "        border-radius: 50%;\n",
              "        cursor: pointer;\n",
              "        display: none;\n",
              "        fill: #1967D2;\n",
              "        height: 32px;\n",
              "        padding: 0 0 0 0;\n",
              "        width: 32px;\n",
              "      }\n",
              "\n",
              "      .colab-df-generate:hover {\n",
              "        background-color: #E2EBFA;\n",
              "        box-shadow: 0px 1px 2px rgba(60, 64, 67, 0.3), 0px 1px 3px 1px rgba(60, 64, 67, 0.15);\n",
              "        fill: #174EA6;\n",
              "      }\n",
              "\n",
              "      [theme=dark] .colab-df-generate {\n",
              "        background-color: #3B4455;\n",
              "        fill: #D2E3FC;\n",
              "      }\n",
              "\n",
              "      [theme=dark] .colab-df-generate:hover {\n",
              "        background-color: #434B5C;\n",
              "        box-shadow: 0px 1px 3px 1px rgba(0, 0, 0, 0.15);\n",
              "        filter: drop-shadow(0px 1px 2px rgba(0, 0, 0, 0.3));\n",
              "        fill: #FFFFFF;\n",
              "      }\n",
              "    </style>\n",
              "    <button class=\"colab-df-generate\" onclick=\"generateWithVariable('df')\"\n",
              "            title=\"Generate code using this dataframe.\"\n",
              "            style=\"display:none;\">\n",
              "\n",
              "  <svg xmlns=\"http://www.w3.org/2000/svg\" height=\"24px\"viewBox=\"0 0 24 24\"\n",
              "       width=\"24px\">\n",
              "    <path d=\"M7,19H8.4L18.45,9,17,7.55,7,17.6ZM5,21V16.75L18.45,3.32a2,2,0,0,1,2.83,0l1.4,1.43a1.91,1.91,0,0,1,.58,1.4,1.91,1.91,0,0,1-.58,1.4L9.25,21ZM18.45,9,17,7.55Zm-12,3A5.31,5.31,0,0,0,4.9,8.1,5.31,5.31,0,0,0,1,6.5,5.31,5.31,0,0,0,4.9,4.9,5.31,5.31,0,0,0,6.5,1,5.31,5.31,0,0,0,8.1,4.9,5.31,5.31,0,0,0,12,6.5,5.46,5.46,0,0,0,6.5,12Z\"/>\n",
              "  </svg>\n",
              "    </button>\n",
              "    <script>\n",
              "      (() => {\n",
              "      const buttonEl =\n",
              "        document.querySelector('#id_bda9d237-5d4a-4f48-88df-6c78580c6f1c button.colab-df-generate');\n",
              "      buttonEl.style.display =\n",
              "        google.colab.kernel.accessAllowed ? 'block' : 'none';\n",
              "\n",
              "      buttonEl.onclick = () => {\n",
              "        google.colab.notebook.generateWithVariable('df');\n",
              "      }\n",
              "      })();\n",
              "    </script>\n",
              "  </div>\n",
              "\n",
              "    </div>\n",
              "  </div>\n"
            ],
            "application/vnd.google.colaboratory.intrinsic+json": {
              "type": "dataframe",
              "variable_name": "df",
              "summary": "{\n  \"name\": \"df\",\n  \"rows\": 2004,\n  \"fields\": [\n    {\n      \"column\": \"Ticket\",\n      \"properties\": {\n        \"dtype\": \"string\",\n        \"num_unique_values\": 1991,\n        \"samples\": [\n          \"\\u0648\\u0627\\u0644\\u0644\\u0647 \\u0627\\u0646\\u062a\\u0645 \\u0634\\u0631\\u0643\\u0627\\u0621 \\u0641\\u064a \\u0639\\u0645\\u0644\\u064a\\u0629 \\u0627\\u0644\\u0646\\u0635\\u0628 \\u0648\\u0627\\u0644\\u0643\\u0630\\u0628\\u0629 \\u0627\\u0644\\u062a\\u064a \\u0623\\u0637\\u0644\\u0642\\u0647\\u0627 \\u0628\\u0639\\u0636 \\u0627\\u0644\\u0634\\u0631\\u0643\\u0627\\u062a \\u0648\\u0627\\u0644\\u062a\\u062c\\u0627\\u0631 \\u0628\\u0645\\u0634\\u0627\\u0631\\u0643\\u0629\\n \\u0645\\u0634\\u0627\\u0647\\u064a\\u0631 \\u0627\\u0644\\u0641\\u0644\\u0633 \\n \\u0648\\u0628\\u062a\\u0635\\u0631\\u064a\\u062d \\u0631\\u0633\\u0645\\u064a \\u0645\\u0646\\u0643\\u0645 \\n \\n \\u062c\\u0648\\u0627\\u0626\\u0632 \\n \\u0645\\u0646\\u0627\\u0632\\u0644\\n \\u0633\\u064a\\u0627\\u0631\\u0627\\u062a \\u0627\\u0642\\u064a\\u0645\\u0647\\u0627 \\u062a\\u062a\\u062c\\u0627\\u0648\\u0632 \\u0627\\u0644\\u0645\\u0644\\u064a\\u0648\\u0646 \\u0631\\u064a\\u0627\\u0644 \\n \\n \\u0648\\u0641\\u064a \\u0627\\u0644\\u0646\\u0647\\u0627\\u064a\\u0629 \\n \\u0627\\u0642\\u0633\\u0645 \\u0628\\u0627\\u0644\\u0644\\u0647 \\u0627\\u0644\\u0639\\u0638\\u064a\\u0645 \\u0627\\u0646\\u0647\\u0627 \\u0643\\u0630\\u0628 \\u0641\\u064a \\u0643\\u0630\\u0628 \\n \\n \\u0648\\u0647\\u0630\\u0627 \\u0627\\u0644\\u0639\\u0645\\u0644\\u064a\\u0629 \\u0627\\u0644\\u0625\\u062d\\u062a\\u064a\\u0627\\u0644\\u064a\\u0629 \\u0648\\u0627\\u0644\\u062a\\u064a \\u062a\\u0631\\u0639\\u0627\\u0647\\u0627 \\u0648\\u062a\\u064f\\u0634\\u0627\\u0631\\u0643 \\u0641\\u064a\\u0647\\u0627 \\u0648\\u0632\\u0627\\u0631\\u0629\\u2026\",\n          \"\\u0627\\u063a\\u0644\\u0628 \\u0627\\u0644\\u0645\\u062d\\u0644\\u0627\\u062a \\u0639\\u0645\\u0627\\u0644\\u0647 \\u064a\\u0645\\u0646\\u064a\\u0647 \\u062a\\u0639\\u0645\\u0644 \\u0628\\u0645\\u0647\\u0646 \\u062a\\u0648\\u0637\\u064a\\u0646 \\u0645\\u0642\\u0635\\u0648\\u0631\\u0629 \\u0639\\u0644\\u0649 \\u0627\\u0644\\u0633\\u0639\\u0648\\u062f\\u064a\\u064a\\u0646 \\u0648\\u0627\\u0644\\u0633\\u0639\\u0648\\u062f\\u064a\\u0627\\u062a\\n \\u0645\\u062d\\u0644\\u0627\\u062a \\u0627\\u0644\\u0639\\u0628\\u0627\\u064a\\u0627\\u062a \\u0648\\u0627\\u0644\\u0627\\u0643\\u0633\\u0633\\u0648\\u0631\\u0627\\u062a \\u0648\\u0627\\u0644\\u0639\\u0637\\u0648\\u0631 \\u0648\\u0643\\u0644 \\u0645\\u0627\\u064a\\u0644\\u0632\\u0645 \\u0627\\u0644\\u0645\\u0631\\u0627\\u0647\",\n          \"\\u0627\\u0644\\u064a \\u0646\\u0639\\u0631\\u0641\\u0647 \\u0627\\u0646 \\u0627\\u0634\\u062a\\u0631\\u0627\\u0637 \\u0634\\u0631\\u0627\\u0621 \\u0645\\u0646\\u062a\\u062c \\u0644\\u0644\\u062d\\u0635\\u0648\\u0644 \\u0639 \\u0627\\u0644\\u062c\\u0648\\u0627\\u0626\\u0632 \\u0645\\u0645\\u0646\\u0648\\u0639 \\u0648\\u0644\\u0627 \\u0643\\u064a\\u0641\"\n        ],\n        \"semantic_type\": \"\",\n        \"description\": \"\"\n      }\n    },\n    {\n      \"column\": \"Authority\",\n      \"properties\": {\n        \"dtype\": \"category\",\n        \"num_unique_values\": 4,\n        \"samples\": [\n          \"\\u0627\\u0644\\u0647\\u064a\\u0626\\u0629 \\u0627\\u0644\\u0639\\u0627\\u0645\\u0629 \\u0644\\u0644\\u0646\\u0642\\u0644\",\n          \"\\u0648\\u0632\\u0627\\u0631\\u0629 \\u0627\\u0644\\u0634\\u0624\\u0648\\u0646 \\u0627\\u0644\\u0628\\u0644\\u062f\\u064a\\u0629 \\u0648\\u0627\\u0644\\u0642\\u0631\\u0648\\u064a\\u0629 \\u0648\\u0627\\u0644\\u0625\\u0633\\u0643\\u0627\\u0646\",\n          \"\\u0648\\u0632\\u0627\\u0631\\u0629 \\u0627\\u0644\\u062a\\u062c\\u0627\\u0631\\u0629\"\n        ],\n        \"semantic_type\": \"\",\n        \"description\": \"\"\n      }\n    }\n  ]\n}"
            }
          },
          "metadata": {},
          "execution_count": 3
        }
      ]
    },
    {
      "cell_type": "code",
      "source": [
        "# Group by 'Authority' and calculate the size of each Authority\n",
        "category_sizes = df.groupby('Authority').size()\n",
        "\n",
        "# Plot the sizes in a horizontal bar chart\n",
        "category_sizes.plot(kind='barh', color=sns.palettes.mpl_palette('Dark2'))\n",
        "\n",
        "# Customize the plot if desired\n",
        "plt.gca().spines[['top', 'right']].set_visible(False)\n",
        "plt.xlabel('Ticket')\n",
        "plt.ylabel('Authority')\n",
        "plt.title('Ticket-Authority')\n",
        "\n",
        "# Display the plot\n",
        "plt.show()"
      ],
      "metadata": {
        "colab": {
          "base_uri": "https://localhost:8080/",
          "height": 472
        },
        "id": "Q7k4szO9173N",
        "outputId": "6fdab226-a716-44d1-c91c-0fbee9b208f6"
      },
      "execution_count": 4,
      "outputs": [
        {
          "output_type": "display_data",
          "data": {
            "text/plain": [
              "<Figure size 640x480 with 1 Axes>"
            ],
            "image/png": "[encoded data removed]"
          },
          "metadata": {}
        }
      ]
    },
    {
      "cell_type": "code",
      "source": [
        "# Value Count Of Category\n",
        "count = df['Authority'].value_counts()\n",
        "\n",
        "# Create a figure with two subplots\n",
        "fig, axs = plt.subplots(1, 2, figsize=(10, 6), facecolor='white')\n",
        "\n",
        "# Plot pie chart on the first subplot\n",
        "palette = sns.color_palette(\"viridis\")\n",
        "sns.set_palette(palette)\n",
        "axs[0].pie(count, labels=count.index, autopct='%1.1f%%', startangle=140)\n",
        "axs[0].set_title('Distribution of Authority')\n",
        "\n",
        "# Plot bar chart on the second subplot\n",
        "sns.barplot(x=count.index, y=count.values, ax=axs[1], palette=\"viridis\")\n",
        "axs[1].set_title('Count of Authority')\n",
        "\n",
        "# Adjust layout\n",
        "plt.tight_layout()\n",
        "\n",
        "# Show the plot\n",
        "plt.show()"
      ],
      "metadata": {
        "colab": {
          "base_uri": "https://localhost:8080/",
          "height": 694
        },
        "id": "3fEo66j4MLyw",
        "outputId": "c942b85d-74a2-4b8e-a174-8084b542b06d"
      },
      "execution_count": 5,
      "outputs": [
        {
          "output_type": "stream",
          "name": "stderr",
          "text": [
            "<ipython-input-5-ad1ca02184ef>:14: FutureWarning: \n",
            "\n",
            "Passing `palette` without assigning `hue` is deprecated and will be removed in v0.14.0. Assign the `x` variable to `hue` and set `legend=False` for the same effect.\n",
            "\n",
            "  sns.barplot(x=count.index, y=count.values, ax=axs[1], palette=\"viridis\")\n"
          ]
        },
        {
          "output_type": "display_data",
          "data": {
            "text/plain": [
              "<Figure size 1000x600 with 2 Axes>"
            ],
            "image/png": "[encoded data removed]"
          },
          "metadata": {}
        }
      ]
    },
    {
      "cell_type": "code",
      "source": [
        "df.Authority.value_counts()"
      ],
      "metadata": {
        "colab": {
          "base_uri": "https://localhost:8080/"
        },
        "id": "80aXGzVj2F49",
        "outputId": "866b1733-a112-45a2-e2a8-39c5ebcc6900"
      },
      "execution_count": 6,
      "outputs": [
        {
          "output_type": "execute_result",
          "data": {
            "text/plain": [
              "Authority\n",
              "وزارة التجارة                             1066\n",
              "وزارة الشؤون البلدية والقروية والإسكان     516\n",
              "الهيئة العامة للنقل                        245\n",
              "ساما                                       177\n",
              "Name: count, dtype: int64"
            ]
          },
          "metadata": {},
          "execution_count": 6
        }
      ]
    },
    {
      "cell_type": "code",
      "source": [
        "df.shape"
      ],
      "metadata": {
        "colab": {
          "base_uri": "https://localhost:8080/"
        },
        "id": "Co9_gfBW2F0Z",
        "outputId": "b619a477-c6e0-4f14-d89e-4b59d2112b32"
      },
      "execution_count": 7,
      "outputs": [
        {
          "output_type": "execute_result",
          "data": {
            "text/plain": [
              "(2004, 2)"
            ]
          },
          "metadata": {},
          "execution_count": 7
        }
      ]
    },
    {
      "cell_type": "code",
      "source": [
        "df.columns"
      ],
      "metadata": {
        "colab": {
          "base_uri": "https://localhost:8080/"
        },
        "id": "_NhCAbTN2KnO",
        "outputId": "1a70d225-b94c-4c13-a0c9-2e851700e636"
      },
      "execution_count": 8,
      "outputs": [
        {
          "output_type": "execute_result",
          "data": {
            "text/plain": [
              "Index(['Ticket', 'Authority'], dtype='object')"
            ]
          },
          "metadata": {},
          "execution_count": 8
        }
      ]
    },
    {
      "cell_type": "code",
      "source": [
        "df.head()"
      ],
      "metadata": {
        "colab": {
          "base_uri": "https://localhost:8080/",
          "height": 206
        },
        "id": "esfOf2nR2PsJ",
        "outputId": "dc60f7b9-3ee7-42ea-c92b-3a444a920606"
      },
      "execution_count": 9,
      "outputs": [
        {
          "output_type": "execute_result",
          "data": {
            "text/plain": [
              "                                              Ticket            Authority\n",
              "0  السلام عليكم . سنتر جديد وعروض خياليه تتسبب بز...        وزارة التجارة\n",
              "1  السلام عليكم ورحمة الله وبركاته خوتم مباركه لد...        وزارة التجارة\n",
              "2           لي شحنه شي ان لها استرجاع من شركة ايمايل  الهيئة العامة للنقل\n",
              "3  تم تزويدكم برقم الهاتف والإسم حسب طلبكم بالخاص...        وزارة التجارة\n",
              "4  السلام عليكم ورحمة الله وبركاته، يا اخوان لي ا...        وزارة التجارة"
            ],
            "text/html": [
              "\n",
              "  <div id=\"df-f5326eb5-0269-4b2a-8cf0-633f145b387c\" class=\"colab-df-container\">\n",
              "    <div>\n",
              "<style scoped>\n",
              "    .dataframe tbody tr th:only-of-type {\n",
              "        vertical-align: middle;\n",
              "    }\n",
              "\n",
              "    .dataframe tbody tr th {\n",
              "        vertical-align: top;\n",
              "    }\n",
              "\n",
              "    .dataframe thead th {\n",
              "        text-align: right;\n",
              "    }\n",
              "</style>\n",
              "<table border=\"1\" class=\"dataframe\">\n",
              "  <thead>\n",
              "    <tr style=\"text-align: right;\">\n",
              "      <th></th>\n",
              "      <th>Ticket</th>\n",
              "      <th>Authority</th>\n",
              "    </tr>\n",
              "  </thead>\n",
              "  <tbody>\n",
              "    <tr>\n",
              "      <th>0</th>\n",
              "      <td>السلام عليكم . سنتر جديد وعروض خياليه تتسبب بز...</td>\n",
              "      <td>وزارة التجارة</td>\n",
              "    </tr>\n",
              "    <tr>\n",
              "      <th>1</th>\n",
              "      <td>السلام عليكم ورحمة الله وبركاته خوتم مباركه لد...</td>\n",
              "      <td>وزارة التجارة</td>\n",
              "    </tr>\n",
              "    <tr>\n",
              "      <th>2</th>\n",
              "      <td>لي شحنه شي ان لها استرجاع من شركة ايمايل</td>\n",
              "      <td>الهيئة العامة للنقل</td>\n",
              "    </tr>\n",
              "    <tr>\n",
              "      <th>3</th>\n",
              "      <td>تم تزويدكم برقم الهاتف والإسم حسب طلبكم بالخاص...</td>\n",
              "      <td>وزارة التجارة</td>\n",
              "    </tr>\n",
              "    <tr>\n",
              "      <th>4</th>\n",
              "      <td>السلام عليكم ورحمة الله وبركاته، يا اخوان لي ا...</td>\n",
              "      <td>وزارة التجارة</td>\n",
              "    </tr>\n",
              "  </tbody>\n",
              "</table>\n",
              "</div>\n",
              "    <div class=\"colab-df-buttons\">\n",
              "\n",
              "  <div class=\"colab-df-container\">\n",
              "    <button class=\"colab-df-convert\" onclick=\"convertToInteractive('df-f5326eb5-0269-4b2a-8cf0-633f145b387c')\"\n",
              "            title=\"Convert this dataframe to an interactive table.\"\n",
              "            style=\"display:none;\">\n",
              "\n",
              "  <svg xmlns=\"http://www.w3.org/2000/svg\" height=\"24px\" viewBox=\"0 -960 960 960\">\n",
              "    <path d=\"M120-120v-720h720v720H120Zm60-500h600v-160H180v160Zm220 220h160v-160H400v160Zm0 220h160v-160H400v160ZM180-400h160v-160H180v160Zm440 0h160v-160H620v160ZM180-180h160v-160H180v160Zm440 0h160v-160H620v160Z\"/>\n",
              "  </svg>\n",
              "    </button>\n",
              "\n",
              "  <style>\n",
              "    .colab-df-container {\n",
              "      display:flex;\n",
              "      gap: 12px;\n",
              "    }\n",
              "\n",
              "    .colab-df-convert {\n",
              "      background-color: #E8F0FE;\n",
              "      border: none;\n",
              "      border-radius: 50%;\n",
              "      cursor: pointer;\n",
              "      display: none;\n",
              "      fill: #1967D2;\n",
              "      height: 32px;\n",
              "      padding: 0 0 0 0;\n",
              "      width: 32px;\n",
              "    }\n",
              "\n",
              "    .colab-df-convert:hover {\n",
              "      background-color: #E2EBFA;\n",
              "      box-shadow: 0px 1px 2px rgba(60, 64, 67, 0.3), 0px 1px 3px 1px rgba(60, 64, 67, 0.15);\n",
              "      fill: #174EA6;\n",
              "    }\n",
              "\n",
              "    .colab-df-buttons div {\n",
              "      margin-bottom: 4px;\n",
              "    }\n",
              "\n",
              "    [theme=dark] .colab-df-convert {\n",
              "      background-color: #3B4455;\n",
              "      fill: #D2E3FC;\n",
              "    }\n",
              "\n",
              "    [theme=dark] .colab-df-convert:hover {\n",
              "      background-color: #434B5C;\n",
              "      box-shadow: 0px 1px 3px 1px rgba(0, 0, 0, 0.15);\n",
              "      filter: drop-shadow(0px 1px 2px rgba(0, 0, 0, 0.3));\n",
              "      fill: #FFFFFF;\n",
              "    }\n",
              "  </style>\n",
              "\n",
              "    <script>\n",
              "      const buttonEl =\n",
              "        document.querySelector('#df-f5326eb5-0269-4b2a-8cf0-633f145b387c button.colab-df-convert');\n",
              "      buttonEl.style.display =\n",
              "        google.colab.kernel.accessAllowed ? 'block' : 'none';\n",
              "\n",
              "      async function convertToInteractive(key) {\n",
              "        const element = document.querySelector('#df-f5326eb5-0269-4b2a-8cf0-633f145b387c');\n",
              "        const dataTable =\n",
              "          await google.colab.kernel.invokeFunction('convertToInteractive',\n",
              "                                                    [key], {});\n",
              "        if (!dataTable) return;\n",
              "\n",
              "        const docLinkHtml = 'Like what you see? Visit the ' +\n",
              "          '<a target=\"_blank\" href=https://colab.research.google.com/notebooks/data_table.ipynb>data table notebook</a>'\n",
              "          + ' to learn more about interactive tables.';\n",
              "        element.innerHTML = '';\n",
              "        dataTable['output_type'] = 'display_data';\n",
              "        await google.colab.output.renderOutput(dataTable, element);\n",
              "        const docLink = document.createElement('div');\n",
              "        docLink.innerHTML = docLinkHtml;\n",
              "        element.appendChild(docLink);\n",
              "      }\n",
              "    </script>\n",
              "  </div>\n",
              "\n",
              "\n",
              "<div id=\"df-9715dabc-a1f8-422f-a239-281903d43f71\">\n",
              "  <button class=\"colab-df-quickchart\" onclick=\"quickchart('df-9715dabc-a1f8-422f-a239-281903d43f71')\"\n",
              "            title=\"Suggest charts\"\n",
              "            style=\"display:none;\">\n",
              "\n",
              "<svg xmlns=\"http://www.w3.org/2000/svg\" height=\"24px\"viewBox=\"0 0 24 24\"\n",
              "     width=\"24px\">\n",
              "    <g>\n",
              "        <path d=\"M19 3H5c-1.1 0-2 .9-2 2v14c0 1.1.9 2 2 2h14c1.1 0 2-.9 2-2V5c0-1.1-.9-2-2-2zM9 17H7v-7h2v7zm4 0h-2V7h2v10zm4 0h-2v-4h2v4z\"/>\n",
              "    </g>\n",
              "</svg>\n",
              "  </button>\n",
              "\n",
              "<style>\n",
              "  .colab-df-quickchart {\n",
              "      --bg-color: #E8F0FE;\n",
              "      --fill-color: #1967D2;\n",
              "      --hover-bg-color: #E2EBFA;\n",
              "      --hover-fill-color: #174EA6;\n",
              "      --disabled-fill-color: #AAA;\n",
              "      --disabled-bg-color: #DDD;\n",
              "  }\n",
              "\n",
              "  [theme=dark] .colab-df-quickchart {\n",
              "      --bg-color: #3B4455;\n",
              "      --fill-color: #D2E3FC;\n",
              "      --hover-bg-color: #434B5C;\n",
              "      --hover-fill-color: #FFFFFF;\n",
              "      --disabled-bg-color: #3B4455;\n",
              "      --disabled-fill-color: #666;\n",
              "  }\n",
              "\n",
              "  .colab-df-quickchart {\n",
              "    background-color: var(--bg-color);\n",
              "    border: none;\n",
              "    border-radius: 50%;\n",
              "    cursor: pointer;\n",
              "    display: none;\n",
              "    fill: var(--fill-color);\n",
              "    height: 32px;\n",
              "    padding: 0;\n",
              "    width: 32px;\n",
              "  }\n",
              "\n",
              "  .colab-df-quickchart:hover {\n",
              "    background-color: var(--hover-bg-color);\n",
              "    box-shadow: 0 1px 2px rgba(60, 64, 67, 0.3), 0 1px 3px 1px rgba(60, 64, 67, 0.15);\n",
              "    fill: var(--button-hover-fill-color);\n",
              "  }\n",
              "\n",
              "  .colab-df-quickchart-complete:disabled,\n",
              "  .colab-df-quickchart-complete:disabled:hover {\n",
              "    background-color: var(--disabled-bg-color);\n",
              "    fill: var(--disabled-fill-color);\n",
              "    box-shadow: none;\n",
              "  }\n",
              "\n",
              "  .colab-df-spinner {\n",
              "    border: 2px solid var(--fill-color);\n",
              "    border-color: transparent;\n",
              "    border-bottom-color: var(--fill-color);\n",
              "    animation:\n",
              "      spin 1s steps(1) infinite;\n",
              "  }\n",
              "\n",
              "  @keyframes spin {\n",
              "    0% {\n",
              "      border-color: transparent;\n",
              "      border-bottom-color: var(--fill-color);\n",
              "      border-left-color: var(--fill-color);\n",
              "    }\n",
              "    20% {\n",
              "      border-color: transparent;\n",
              "      border-left-color: var(--fill-color);\n",
              "      border-top-color: var(--fill-color);\n",
              "    }\n",
              "    30% {\n",
              "      border-color: transparent;\n",
              "      border-left-color: var(--fill-color);\n",
              "      border-top-color: var(--fill-color);\n",
              "      border-right-color: var(--fill-color);\n",
              "    }\n",
              "    40% {\n",
              "      border-color: transparent;\n",
              "      border-right-color: var(--fill-color);\n",
              "      border-top-color: var(--fill-color);\n",
              "    }\n",
              "    60% {\n",
              "      border-color: transparent;\n",
              "      border-right-color: var(--fill-color);\n",
              "    }\n",
              "    80% {\n",
              "      border-color: transparent;\n",
              "      border-right-color: var(--fill-color);\n",
              "      border-bottom-color: var(--fill-color);\n",
              "    }\n",
              "    90% {\n",
              "      border-color: transparent;\n",
              "      border-bottom-color: var(--fill-color);\n",
              "    }\n",
              "  }\n",
              "</style>\n",
              "\n",
              "  <script>\n",
              "    async function quickchart(key) {\n",
              "      const quickchartButtonEl =\n",
              "        document.querySelector('#' + key + ' button');\n",
              "      quickchartButtonEl.disabled = true;  // To prevent multiple clicks.\n",
              "      quickchartButtonEl.classList.add('colab-df-spinner');\n",
              "      try {\n",
              "        const charts = await google.colab.kernel.invokeFunction(\n",
              "            'suggestCharts', [key], {});\n",
              "      } catch (error) {\n",
              "        console.error('Error during call to suggestCharts:', error);\n",
              "      }\n",
              "      quickchartButtonEl.classList.remove('colab-df-spinner');\n",
              "      quickchartButtonEl.classList.add('colab-df-quickchart-complete');\n",
              "    }\n",
              "    (() => {\n",
              "      let quickchartButtonEl =\n",
              "        document.querySelector('#df-9715dabc-a1f8-422f-a239-281903d43f71 button');\n",
              "      quickchartButtonEl.style.display =\n",
              "        google.colab.kernel.accessAllowed ? 'block' : 'none';\n",
              "    })();\n",
              "  </script>\n",
              "</div>\n",
              "\n",
              "    </div>\n",
              "  </div>\n"
            ],
            "application/vnd.google.colaboratory.intrinsic+json": {
              "type": "dataframe",
              "variable_name": "df",
              "summary": "{\n  \"name\": \"df\",\n  \"rows\": 2004,\n  \"fields\": [\n    {\n      \"column\": \"Ticket\",\n      \"properties\": {\n        \"dtype\": \"string\",\n        \"num_unique_values\": 1991,\n        \"samples\": [\n          \"\\u0648\\u0627\\u0644\\u0644\\u0647 \\u0627\\u0646\\u062a\\u0645 \\u0634\\u0631\\u0643\\u0627\\u0621 \\u0641\\u064a \\u0639\\u0645\\u0644\\u064a\\u0629 \\u0627\\u0644\\u0646\\u0635\\u0628 \\u0648\\u0627\\u0644\\u0643\\u0630\\u0628\\u0629 \\u0627\\u0644\\u062a\\u064a \\u0623\\u0637\\u0644\\u0642\\u0647\\u0627 \\u0628\\u0639\\u0636 \\u0627\\u0644\\u0634\\u0631\\u0643\\u0627\\u062a \\u0648\\u0627\\u0644\\u062a\\u062c\\u0627\\u0631 \\u0628\\u0645\\u0634\\u0627\\u0631\\u0643\\u0629\\n \\u0645\\u0634\\u0627\\u0647\\u064a\\u0631 \\u0627\\u0644\\u0641\\u0644\\u0633 \\n \\u0648\\u0628\\u062a\\u0635\\u0631\\u064a\\u062d \\u0631\\u0633\\u0645\\u064a \\u0645\\u0646\\u0643\\u0645 \\n \\n \\u062c\\u0648\\u0627\\u0626\\u0632 \\n \\u0645\\u0646\\u0627\\u0632\\u0644\\n \\u0633\\u064a\\u0627\\u0631\\u0627\\u062a \\u0627\\u0642\\u064a\\u0645\\u0647\\u0627 \\u062a\\u062a\\u062c\\u0627\\u0648\\u0632 \\u0627\\u0644\\u0645\\u0644\\u064a\\u0648\\u0646 \\u0631\\u064a\\u0627\\u0644 \\n \\n \\u0648\\u0641\\u064a \\u0627\\u0644\\u0646\\u0647\\u0627\\u064a\\u0629 \\n \\u0627\\u0642\\u0633\\u0645 \\u0628\\u0627\\u0644\\u0644\\u0647 \\u0627\\u0644\\u0639\\u0638\\u064a\\u0645 \\u0627\\u0646\\u0647\\u0627 \\u0643\\u0630\\u0628 \\u0641\\u064a \\u0643\\u0630\\u0628 \\n \\n \\u0648\\u0647\\u0630\\u0627 \\u0627\\u0644\\u0639\\u0645\\u0644\\u064a\\u0629 \\u0627\\u0644\\u0625\\u062d\\u062a\\u064a\\u0627\\u0644\\u064a\\u0629 \\u0648\\u0627\\u0644\\u062a\\u064a \\u062a\\u0631\\u0639\\u0627\\u0647\\u0627 \\u0648\\u062a\\u064f\\u0634\\u0627\\u0631\\u0643 \\u0641\\u064a\\u0647\\u0627 \\u0648\\u0632\\u0627\\u0631\\u0629\\u2026\",\n          \"\\u0627\\u063a\\u0644\\u0628 \\u0627\\u0644\\u0645\\u062d\\u0644\\u0627\\u062a \\u0639\\u0645\\u0627\\u0644\\u0647 \\u064a\\u0645\\u0646\\u064a\\u0647 \\u062a\\u0639\\u0645\\u0644 \\u0628\\u0645\\u0647\\u0646 \\u062a\\u0648\\u0637\\u064a\\u0646 \\u0645\\u0642\\u0635\\u0648\\u0631\\u0629 \\u0639\\u0644\\u0649 \\u0627\\u0644\\u0633\\u0639\\u0648\\u062f\\u064a\\u064a\\u0646 \\u0648\\u0627\\u0644\\u0633\\u0639\\u0648\\u062f\\u064a\\u0627\\u062a\\n \\u0645\\u062d\\u0644\\u0627\\u062a \\u0627\\u0644\\u0639\\u0628\\u0627\\u064a\\u0627\\u062a \\u0648\\u0627\\u0644\\u0627\\u0643\\u0633\\u0633\\u0648\\u0631\\u0627\\u062a \\u0648\\u0627\\u0644\\u0639\\u0637\\u0648\\u0631 \\u0648\\u0643\\u0644 \\u0645\\u0627\\u064a\\u0644\\u0632\\u0645 \\u0627\\u0644\\u0645\\u0631\\u0627\\u0647\",\n          \"\\u0627\\u0644\\u064a \\u0646\\u0639\\u0631\\u0641\\u0647 \\u0627\\u0646 \\u0627\\u0634\\u062a\\u0631\\u0627\\u0637 \\u0634\\u0631\\u0627\\u0621 \\u0645\\u0646\\u062a\\u062c \\u0644\\u0644\\u062d\\u0635\\u0648\\u0644 \\u0639 \\u0627\\u0644\\u062c\\u0648\\u0627\\u0626\\u0632 \\u0645\\u0645\\u0646\\u0648\\u0639 \\u0648\\u0644\\u0627 \\u0643\\u064a\\u0641\"\n        ],\n        \"semantic_type\": \"\",\n        \"description\": \"\"\n      }\n    },\n    {\n      \"column\": \"Authority\",\n      \"properties\": {\n        \"dtype\": \"category\",\n        \"num_unique_values\": 4,\n        \"samples\": [\n          \"\\u0627\\u0644\\u0647\\u064a\\u0626\\u0629 \\u0627\\u0644\\u0639\\u0627\\u0645\\u0629 \\u0644\\u0644\\u0646\\u0642\\u0644\",\n          \"\\u0648\\u0632\\u0627\\u0631\\u0629 \\u0627\\u0644\\u0634\\u0624\\u0648\\u0646 \\u0627\\u0644\\u0628\\u0644\\u062f\\u064a\\u0629 \\u0648\\u0627\\u0644\\u0642\\u0631\\u0648\\u064a\\u0629 \\u0648\\u0627\\u0644\\u0625\\u0633\\u0643\\u0627\\u0646\",\n          \"\\u0648\\u0632\\u0627\\u0631\\u0629 \\u0627\\u0644\\u062a\\u062c\\u0627\\u0631\\u0629\"\n        ],\n        \"semantic_type\": \"\",\n        \"description\": \"\"\n      }\n    }\n  ]\n}"
            }
          },
          "metadata": {},
          "execution_count": 9
        }
      ]
    },
    {
      "cell_type": "code",
      "source": [
        "df.info()"
      ],
      "metadata": {
        "colab": {
          "base_uri": "https://localhost:8080/"
        },
        "id": "lOZbrHpe2SHk",
        "outputId": "01694b66-99df-4e3e-f565-ddd5760b54e9"
      },
      "execution_count": 10,
      "outputs": [
        {
          "output_type": "stream",
          "name": "stdout",
          "text": [
            "<class 'pandas.core.frame.DataFrame'>\n",
            "RangeIndex: 2004 entries, 0 to 2003\n",
            "Data columns (total 2 columns):\n",
            " #   Column     Non-Null Count  Dtype \n",
            "---  ------     --------------  ----- \n",
            " 0   Ticket     2004 non-null   object\n",
            " 1   Authority  2004 non-null   object\n",
            "dtypes: object(2)\n",
            "memory usage: 31.4+ KB\n"
          ]
        }
      ]
    },
    {
      "cell_type": "code",
      "source": [
        "df.describe()"
      ],
      "metadata": {
        "colab": {
          "base_uri": "https://localhost:8080/",
          "height": 175
        },
        "id": "olPBwava2SEq",
        "outputId": "f077a9f1-dae0-4705-9969-a990394d7d26"
      },
      "execution_count": 11,
      "outputs": [
        {
          "output_type": "execute_result",
          "data": {
            "text/plain": [
              "                                                   Ticket      Authority\n",
              "count                                                2004           2004\n",
              "unique                                               1991              4\n",
              "top     السادة الموقرين بوزارة التجارة \\n \\n السلام عل...  وزارة التجارة\n",
              "freq                                                    3           1066"
            ],
            "text/html": [
              "\n",
              "  <div id=\"df-eff1a24e-b26a-4d8b-901a-95847e53feb4\" class=\"colab-df-container\">\n",
              "    <div>\n",
              "<style scoped>\n",
              "    .dataframe tbody tr th:only-of-type {\n",
              "        vertical-align: middle;\n",
              "    }\n",
              "\n",
              "    .dataframe tbody tr th {\n",
              "        vertical-align: top;\n",
              "    }\n",
              "\n",
              "    .dataframe thead th {\n",
              "        text-align: right;\n",
              "    }\n",
              "</style>\n",
              "<table border=\"1\" class=\"dataframe\">\n",
              "  <thead>\n",
              "    <tr style=\"text-align: right;\">\n",
              "      <th></th>\n",
              "      <th>Ticket</th>\n",
              "      <th>Authority</th>\n",
              "    </tr>\n",
              "  </thead>\n",
              "  <tbody>\n",
              "    <tr>\n",
              "      <th>count</th>\n",
              "      <td>2004</td>\n",
              "      <td>2004</td>\n",
              "    </tr>\n",
              "    <tr>\n",
              "      <th>unique</th>\n",
              "      <td>1991</td>\n",
              "      <td>4</td>\n",
              "    </tr>\n",
              "    <tr>\n",
              "      <th>top</th>\n",
              "      <td>السادة الموقرين بوزارة التجارة \\n \\n السلام عل...</td>\n",
              "      <td>وزارة التجارة</td>\n",
              "    </tr>\n",
              "    <tr>\n",
              "      <th>freq</th>\n",
              "      <td>3</td>\n",
              "      <td>1066</td>\n",
              "    </tr>\n",
              "  </tbody>\n",
              "</table>\n",
              "</div>\n",
              "    <div class=\"colab-df-buttons\">\n",
              "\n",
              "  <div class=\"colab-df-container\">\n",
              "    <button class=\"colab-df-convert\" onclick=\"convertToInteractive('df-eff1a24e-b26a-4d8b-901a-95847e53feb4')\"\n",
              "            title=\"Convert this dataframe to an interactive table.\"\n",
              "            style=\"display:none;\">\n",
              "\n",
              "  <svg xmlns=\"http://www.w3.org/2000/svg\" height=\"24px\" viewBox=\"0 -960 960 960\">\n",
              "    <path d=\"M120-120v-720h720v720H120Zm60-500h600v-160H180v160Zm220 220h160v-160H400v160Zm0 220h160v-160H400v160ZM180-400h160v-160H180v160Zm440 0h160v-160H620v160ZM180-180h160v-160H180v160Zm440 0h160v-160H620v160Z\"/>\n",
              "  </svg>\n",
              "    </button>\n",
              "\n",
              "  <style>\n",
              "    .colab-df-container {\n",
              "      display:flex;\n",
              "      gap: 12px;\n",
              "    }\n",
              "\n",
              "    .colab-df-convert {\n",
              "      background-color: #E8F0FE;\n",
              "      border: none;\n",
              "      border-radius: 50%;\n",
              "      cursor: pointer;\n",
              "      display: none;\n",
              "      fill: #1967D2;\n",
              "      height: 32px;\n",
              "      padding: 0 0 0 0;\n",
              "      width: 32px;\n",
              "    }\n",
              "\n",
              "    .colab-df-convert:hover {\n",
              "      background-color: #E2EBFA;\n",
              "      box-shadow: 0px 1px 2px rgba(60, 64, 67, 0.3), 0px 1px 3px 1px rgba(60, 64, 67, 0.15);\n",
              "      fill: #174EA6;\n",
              "    }\n",
              "\n",
              "    .colab-df-buttons div {\n",
              "      margin-bottom: 4px;\n",
              "    }\n",
              "\n",
              "    [theme=dark] .colab-df-convert {\n",
              "      background-color: #3B4455;\n",
              "      fill: #D2E3FC;\n",
              "    }\n",
              "\n",
              "    [theme=dark] .colab-df-convert:hover {\n",
              "      background-color: #434B5C;\n",
              "      box-shadow: 0px 1px 3px 1px rgba(0, 0, 0, 0.15);\n",
              "      filter: drop-shadow(0px 1px 2px rgba(0, 0, 0, 0.3));\n",
              "      fill: #FFFFFF;\n",
              "    }\n",
              "  </style>\n",
              "\n",
              "    <script>\n",
              "      const buttonEl =\n",
              "        document.querySelector('#df-eff1a24e-b26a-4d8b-901a-95847e53feb4 button.colab-df-convert');\n",
              "      buttonEl.style.display =\n",
              "        google.colab.kernel.accessAllowed ? 'block' : 'none';\n",
              "\n",
              "      async function convertToInteractive(key) {\n",
              "        const element = document.querySelector('#df-eff1a24e-b26a-4d8b-901a-95847e53feb4');\n",
              "        const dataTable =\n",
              "          await google.colab.kernel.invokeFunction('convertToInteractive',\n",
              "                                                    [key], {});\n",
              "        if (!dataTable) return;\n",
              "\n",
              "        const docLinkHtml = 'Like what you see? Visit the ' +\n",
              "          '<a target=\"_blank\" href=https://colab.research.google.com/notebooks/data_table.ipynb>data table notebook</a>'\n",
              "          + ' to learn more about interactive tables.';\n",
              "        element.innerHTML = '';\n",
              "        dataTable['output_type'] = 'display_data';\n",
              "        await google.colab.output.renderOutput(dataTable, element);\n",
              "        const docLink = document.createElement('div');\n",
              "        docLink.innerHTML = docLinkHtml;\n",
              "        element.appendChild(docLink);\n",
              "      }\n",
              "    </script>\n",
              "  </div>\n",
              "\n",
              "\n",
              "<div id=\"df-2667e090-b720-4d0a-a9ee-6e570ac3794c\">\n",
              "  <button class=\"colab-df-quickchart\" onclick=\"quickchart('df-2667e090-b720-4d0a-a9ee-6e570ac3794c')\"\n",
              "            title=\"Suggest charts\"\n",
              "            style=\"display:none;\">\n",
              "\n",
              "<svg xmlns=\"http://www.w3.org/2000/svg\" height=\"24px\"viewBox=\"0 0 24 24\"\n",
              "     width=\"24px\">\n",
              "    <g>\n",
              "        <path d=\"M19 3H5c-1.1 0-2 .9-2 2v14c0 1.1.9 2 2 2h14c1.1 0 2-.9 2-2V5c0-1.1-.9-2-2-2zM9 17H7v-7h2v7zm4 0h-2V7h2v10zm4 0h-2v-4h2v4z\"/>\n",
              "    </g>\n",
              "</svg>\n",
              "  </button>\n",
              "\n",
              "<style>\n",
              "  .colab-df-quickchart {\n",
              "      --bg-color: #E8F0FE;\n",
              "      --fill-color: #1967D2;\n",
              "      --hover-bg-color: #E2EBFA;\n",
              "      --hover-fill-color: #174EA6;\n",
              "      --disabled-fill-color: #AAA;\n",
              "      --disabled-bg-color: #DDD;\n",
              "  }\n",
              "\n",
              "  [theme=dark] .colab-df-quickchart {\n",
              "      --bg-color: #3B4455;\n",
              "      --fill-color: #D2E3FC;\n",
              "      --hover-bg-color: #434B5C;\n",
              "      --hover-fill-color: #FFFFFF;\n",
              "      --disabled-bg-color: #3B4455;\n",
              "      --disabled-fill-color: #666;\n",
              "  }\n",
              "\n",
              "  .colab-df-quickchart {\n",
              "    background-color: var(--bg-color);\n",
              "    border: none;\n",
              "    border-radius: 50%;\n",
              "    cursor: pointer;\n",
              "    display: none;\n",
              "    fill: var(--fill-color);\n",
              "    height: 32px;\n",
              "    padding: 0;\n",
              "    width: 32px;\n",
              "  }\n",
              "\n",
              "  .colab-df-quickchart:hover {\n",
              "    background-color: var(--hover-bg-color);\n",
              "    box-shadow: 0 1px 2px rgba(60, 64, 67, 0.3), 0 1px 3px 1px rgba(60, 64, 67, 0.15);\n",
              "    fill: var(--button-hover-fill-color);\n",
              "  }\n",
              "\n",
              "  .colab-df-quickchart-complete:disabled,\n",
              "  .colab-df-quickchart-complete:disabled:hover {\n",
              "    background-color: var(--disabled-bg-color);\n",
              "    fill: var(--disabled-fill-color);\n",
              "    box-shadow: none;\n",
              "  }\n",
              "\n",
              "  .colab-df-spinner {\n",
              "    border: 2px solid var(--fill-color);\n",
              "    border-color: transparent;\n",
              "    border-bottom-color: var(--fill-color);\n",
              "    animation:\n",
              "      spin 1s steps(1) infinite;\n",
              "  }\n",
              "\n",
              "  @keyframes spin {\n",
              "    0% {\n",
              "      border-color: transparent;\n",
              "      border-bottom-color: var(--fill-color);\n",
              "      border-left-color: var(--fill-color);\n",
              "    }\n",
              "    20% {\n",
              "      border-color: transparent;\n",
              "      border-left-color: var(--fill-color);\n",
              "      border-top-color: var(--fill-color);\n",
              "    }\n",
              "    30% {\n",
              "      border-color: transparent;\n",
              "      border-left-color: var(--fill-color);\n",
              "      border-top-color: var(--fill-color);\n",
              "      border-right-color: var(--fill-color);\n",
              "    }\n",
              "    40% {\n",
              "      border-color: transparent;\n",
              "      border-right-color: var(--fill-color);\n",
              "      border-top-color: var(--fill-color);\n",
              "    }\n",
              "    60% {\n",
              "      border-color: transparent;\n",
              "      border-right-color: var(--fill-color);\n",
              "    }\n",
              "    80% {\n",
              "      border-color: transparent;\n",
              "      border-right-color: var(--fill-color);\n",
              "      border-bottom-color: var(--fill-color);\n",
              "    }\n",
              "    90% {\n",
              "      border-color: transparent;\n",
              "      border-bottom-color: var(--fill-color);\n",
              "    }\n",
              "  }\n",
              "</style>\n",
              "\n",
              "  <script>\n",
              "    async function quickchart(key) {\n",
              "      const quickchartButtonEl =\n",
              "        document.querySelector('#' + key + ' button');\n",
              "      quickchartButtonEl.disabled = true;  // To prevent multiple clicks.\n",
              "      quickchartButtonEl.classList.add('colab-df-spinner');\n",
              "      try {\n",
              "        const charts = await google.colab.kernel.invokeFunction(\n",
              "            'suggestCharts', [key], {});\n",
              "      } catch (error) {\n",
              "        console.error('Error during call to suggestCharts:', error);\n",
              "      }\n",
              "      quickchartButtonEl.classList.remove('colab-df-spinner');\n",
              "      quickchartButtonEl.classList.add('colab-df-quickchart-complete');\n",
              "    }\n",
              "    (() => {\n",
              "      let quickchartButtonEl =\n",
              "        document.querySelector('#df-2667e090-b720-4d0a-a9ee-6e570ac3794c button');\n",
              "      quickchartButtonEl.style.display =\n",
              "        google.colab.kernel.accessAllowed ? 'block' : 'none';\n",
              "    })();\n",
              "  </script>\n",
              "</div>\n",
              "\n",
              "    </div>\n",
              "  </div>\n"
            ],
            "application/vnd.google.colaboratory.intrinsic+json": {
              "type": "dataframe",
              "summary": "{\n  \"name\": \"df\",\n  \"rows\": 4,\n  \"fields\": [\n    {\n      \"column\": \"Ticket\",\n      \"properties\": {\n        \"dtype\": \"string\",\n        \"num_unique_values\": 4,\n        \"samples\": [\n          1991,\n          \"3\",\n          \"2004\"\n        ],\n        \"semantic_type\": \"\",\n        \"description\": \"\"\n      }\n    },\n    {\n      \"column\": \"Authority\",\n      \"properties\": {\n        \"dtype\": \"string\",\n        \"num_unique_values\": 4,\n        \"samples\": [\n          4,\n          \"1066\",\n          \"2004\"\n        ],\n        \"semantic_type\": \"\",\n        \"description\": \"\"\n      }\n    }\n  ]\n}"
            }
          },
          "metadata": {},
          "execution_count": 11
        }
      ]
    },
    {
      "cell_type": "code",
      "source": [
        "df.isnull().sum() #not right now"
      ],
      "metadata": {
        "colab": {
          "base_uri": "https://localhost:8080/"
        },
        "id": "oN1wXXX72SBq",
        "outputId": "fa3ad53a-93e2-4480-ba00-bcc75968312b"
      },
      "execution_count": 12,
      "outputs": [
        {
          "output_type": "execute_result",
          "data": {
            "text/plain": [
              "Ticket       0\n",
              "Authority    0\n",
              "dtype: int64"
            ]
          },
          "metadata": {},
          "execution_count": 12
        }
      ]
    },
    {
      "cell_type": "code",
      "source": [
        "df.dropna(inplace=True)"
      ],
      "metadata": {
        "id": "Pzkl_YgQ2R_9"
      },
      "execution_count": 13,
      "outputs": []
    },
    {
      "cell_type": "code",
      "source": [
        "df.isnull().sum()"
      ],
      "metadata": {
        "colab": {
          "base_uri": "https://localhost:8080/"
        },
        "id": "9Dp3xyJE2aKi",
        "outputId": "b0f9acca-cbd6-40d1-a514-52cc0e2807cb"
      },
      "execution_count": 14,
      "outputs": [
        {
          "output_type": "execute_result",
          "data": {
            "text/plain": [
              "Ticket       0\n",
              "Authority    0\n",
              "dtype: int64"
            ]
          },
          "metadata": {},
          "execution_count": 14
        }
      ]
    },
    {
      "cell_type": "code",
      "source": [
        "df.duplicated().sum()"
      ],
      "metadata": {
        "colab": {
          "base_uri": "https://localhost:8080/"
        },
        "id": "Qi_SI9rn2b_r",
        "outputId": "ab452460-1021-489d-d67b-12d82dc6d63b"
      },
      "execution_count": 15,
      "outputs": [
        {
          "output_type": "execute_result",
          "data": {
            "text/plain": [
              "12"
            ]
          },
          "metadata": {},
          "execution_count": 15
        }
      ]
    },
    {
      "cell_type": "code",
      "source": [
        "df.drop_duplicates()"
      ],
      "metadata": {
        "id": "SxGwHqnU6L1P",
        "colab": {
          "base_uri": "https://localhost:8080/",
          "height": 423
        },
        "outputId": "2bf56057-959e-47c9-f4d7-87f39cfc94c7"
      },
      "execution_count": 16,
      "outputs": [
        {
          "output_type": "execute_result",
          "data": {
            "text/plain": [
              "                                                 Ticket            Authority\n",
              "0     السلام عليكم . سنتر جديد وعروض خياليه تتسبب بز...        وزارة التجارة\n",
              "1     السلام عليكم ورحمة الله وبركاته خوتم مباركه لد...        وزارة التجارة\n",
              "2              لي شحنه شي ان لها استرجاع من شركة ايمايل  الهيئة العامة للنقل\n",
              "3     تم تزويدكم برقم الهاتف والإسم حسب طلبكم بالخاص...        وزارة التجارة\n",
              "4     السلام عليكم ورحمة الله وبركاته، يا اخوان لي ا...        وزارة التجارة\n",
              "...                                                 ...                  ...\n",
              "1999  لم يتم تسليم الطلبية بشكل كامل من قبل تطبيق هن...  الهيئة العامة للنقل\n",
              "2000  تم إلغاء رحلتي مع تطبيق أوبر بدون أي تنبيه مسب...  الهيئة العامة للنقل\n",
              "2001  تأخرت شحنتي لمدة أسبوع دون أي تحديث أو توضيح م...  الهيئة العامة للنقل\n",
              "2002  تم فقدان طردي في الطريق من قبل شركة الشحن أرام...  الهيئة العامة للنقل\n",
              "2003  لم يلتزم سائق أوبر بالمسار المحدد، مما تسبب في...  الهيئة العامة للنقل\n",
              "\n",
              "[1992 rows x 2 columns]"
            ],
            "text/html": [
              "\n",
              "  <div id=\"df-e8a96692-69d7-40d7-b6ab-b2893cf57ce5\" class=\"colab-df-container\">\n",
              "    <div>\n",
              "<style scoped>\n",
              "    .dataframe tbody tr th:only-of-type {\n",
              "        vertical-align: middle;\n",
              "    }\n",
              "\n",
              "    .dataframe tbody tr th {\n",
              "        vertical-align: top;\n",
              "    }\n",
              "\n",
              "    .dataframe thead th {\n",
              "        text-align: right;\n",
              "    }\n",
              "</style>\n",
              "<table border=\"1\" class=\"dataframe\">\n",
              "  <thead>\n",
              "    <tr style=\"text-align: right;\">\n",
              "      <th></th>\n",
              "      <th>Ticket</th>\n",
              "      <th>Authority</th>\n",
              "    </tr>\n",
              "  </thead>\n",
              "  <tbody>\n",
              "    <tr>\n",
              "      <th>0</th>\n",
              "      <td>السلام عليكم . سنتر جديد وعروض خياليه تتسبب بز...</td>\n",
              "      <td>وزارة التجارة</td>\n",
              "    </tr>\n",
              "    <tr>\n",
              "      <th>1</th>\n",
              "      <td>السلام عليكم ورحمة الله وبركاته خوتم مباركه لد...</td>\n",
              "      <td>وزارة التجارة</td>\n",
              "    </tr>\n",
              "    <tr>\n",
              "      <th>2</th>\n",
              "      <td>لي شحنه شي ان لها استرجاع من شركة ايمايل</td>\n",
              "      <td>الهيئة العامة للنقل</td>\n",
              "    </tr>\n",
              "    <tr>\n",
              "      <th>3</th>\n",
              "      <td>تم تزويدكم برقم الهاتف والإسم حسب طلبكم بالخاص...</td>\n",
              "      <td>وزارة التجارة</td>\n",
              "    </tr>\n",
              "    <tr>\n",
              "      <th>4</th>\n",
              "      <td>السلام عليكم ورحمة الله وبركاته، يا اخوان لي ا...</td>\n",
              "      <td>وزارة التجارة</td>\n",
              "    </tr>\n",
              "    <tr>\n",
              "      <th>...</th>\n",
              "      <td>...</td>\n",
              "      <td>...</td>\n",
              "    </tr>\n",
              "    <tr>\n",
              "      <th>1999</th>\n",
              "      <td>لم يتم تسليم الطلبية بشكل كامل من قبل تطبيق هن...</td>\n",
              "      <td>الهيئة العامة للنقل</td>\n",
              "    </tr>\n",
              "    <tr>\n",
              "      <th>2000</th>\n",
              "      <td>تم إلغاء رحلتي مع تطبيق أوبر بدون أي تنبيه مسب...</td>\n",
              "      <td>الهيئة العامة للنقل</td>\n",
              "    </tr>\n",
              "    <tr>\n",
              "      <th>2001</th>\n",
              "      <td>تأخرت شحنتي لمدة أسبوع دون أي تحديث أو توضيح م...</td>\n",
              "      <td>الهيئة العامة للنقل</td>\n",
              "    </tr>\n",
              "    <tr>\n",
              "      <th>2002</th>\n",
              "      <td>تم فقدان طردي في الطريق من قبل شركة الشحن أرام...</td>\n",
              "      <td>الهيئة العامة للنقل</td>\n",
              "    </tr>\n",
              "    <tr>\n",
              "      <th>2003</th>\n",
              "      <td>لم يلتزم سائق أوبر بالمسار المحدد، مما تسبب في...</td>\n",
              "      <td>الهيئة العامة للنقل</td>\n",
              "    </tr>\n",
              "  </tbody>\n",
              "</table>\n",
              "<p>1992 rows × 2 columns</p>\n",
              "</div>\n",
              "    <div class=\"colab-df-buttons\">\n",
              "\n",
              "  <div class=\"colab-df-container\">\n",
              "    <button class=\"colab-df-convert\" onclick=\"convertToInteractive('df-e8a96692-69d7-40d7-b6ab-b2893cf57ce5')\"\n",
              "            title=\"Convert this dataframe to an interactive table.\"\n",
              "            style=\"display:none;\">\n",
              "\n",
              "  <svg xmlns=\"http://www.w3.org/2000/svg\" height=\"24px\" viewBox=\"0 -960 960 960\">\n",
              "    <path d=\"M120-120v-720h720v720H120Zm60-500h600v-160H180v160Zm220 220h160v-160H400v160Zm0 220h160v-160H400v160ZM180-400h160v-160H180v160Zm440 0h160v-160H620v160ZM180-180h160v-160H180v160Zm440 0h160v-160H620v160Z\"/>\n",
              "  </svg>\n",
              "    </button>\n",
              "\n",
              "  <style>\n",
              "    .colab-df-container {\n",
              "      display:flex;\n",
              "      gap: 12px;\n",
              "    }\n",
              "\n",
              "    .colab-df-convert {\n",
              "      background-color: #E8F0FE;\n",
              "      border: none;\n",
              "      border-radius: 50%;\n",
              "      cursor: pointer;\n",
              "      display: none;\n",
              "      fill: #1967D2;\n",
              "      height: 32px;\n",
              "      padding: 0 0 0 0;\n",
              "      width: 32px;\n",
              "    }\n",
              "\n",
              "    .colab-df-convert:hover {\n",
              "      background-color: #E2EBFA;\n",
              "      box-shadow: 0px 1px 2px rgba(60, 64, 67, 0.3), 0px 1px 3px 1px rgba(60, 64, 67, 0.15);\n",
              "      fill: #174EA6;\n",
              "    }\n",
              "\n",
              "    .colab-df-buttons div {\n",
              "      margin-bottom: 4px;\n",
              "    }\n",
              "\n",
              "    [theme=dark] .colab-df-convert {\n",
              "      background-color: #3B4455;\n",
              "      fill: #D2E3FC;\n",
              "    }\n",
              "\n",
              "    [theme=dark] .colab-df-convert:hover {\n",
              "      background-color: #434B5C;\n",
              "      box-shadow: 0px 1px 3px 1px rgba(0, 0, 0, 0.15);\n",
              "      filter: drop-shadow(0px 1px 2px rgba(0, 0, 0, 0.3));\n",
              "      fill: #FFFFFF;\n",
              "    }\n",
              "  </style>\n",
              "\n",
              "    <script>\n",
              "      const buttonEl =\n",
              "        document.querySelector('#df-e8a96692-69d7-40d7-b6ab-b2893cf57ce5 button.colab-df-convert');\n",
              "      buttonEl.style.display =\n",
              "        google.colab.kernel.accessAllowed ? 'block' : 'none';\n",
              "\n",
              "      async function convertToInteractive(key) {\n",
              "        const element = document.querySelector('#df-e8a96692-69d7-40d7-b6ab-b2893cf57ce5');\n",
              "        const dataTable =\n",
              "          await google.colab.kernel.invokeFunction('convertToInteractive',\n",
              "                                                    [key], {});\n",
              "        if (!dataTable) return;\n",
              "\n",
              "        const docLinkHtml = 'Like what you see? Visit the ' +\n",
              "          '<a target=\"_blank\" href=https://colab.research.google.com/notebooks/data_table.ipynb>data table notebook</a>'\n",
              "          + ' to learn more about interactive tables.';\n",
              "        element.innerHTML = '';\n",
              "        dataTable['output_type'] = 'display_data';\n",
              "        await google.colab.output.renderOutput(dataTable, element);\n",
              "        const docLink = document.createElement('div');\n",
              "        docLink.innerHTML = docLinkHtml;\n",
              "        element.appendChild(docLink);\n",
              "      }\n",
              "    </script>\n",
              "  </div>\n",
              "\n",
              "\n",
              "<div id=\"df-4431739a-eddb-4a4c-9dd1-9b7877e7bcd5\">\n",
              "  <button class=\"colab-df-quickchart\" onclick=\"quickchart('df-4431739a-eddb-4a4c-9dd1-9b7877e7bcd5')\"\n",
              "            title=\"Suggest charts\"\n",
              "            style=\"display:none;\">\n",
              "\n",
              "<svg xmlns=\"http://www.w3.org/2000/svg\" height=\"24px\"viewBox=\"0 0 24 24\"\n",
              "     width=\"24px\">\n",
              "    <g>\n",
              "        <path d=\"M19 3H5c-1.1 0-2 .9-2 2v14c0 1.1.9 2 2 2h14c1.1 0 2-.9 2-2V5c0-1.1-.9-2-2-2zM9 17H7v-7h2v7zm4 0h-2V7h2v10zm4 0h-2v-4h2v4z\"/>\n",
              "    </g>\n",
              "</svg>\n",
              "  </button>\n",
              "\n",
              "<style>\n",
              "  .colab-df-quickchart {\n",
              "      --bg-color: #E8F0FE;\n",
              "      --fill-color: #1967D2;\n",
              "      --hover-bg-color: #E2EBFA;\n",
              "      --hover-fill-color: #174EA6;\n",
              "      --disabled-fill-color: #AAA;\n",
              "      --disabled-bg-color: #DDD;\n",
              "  }\n",
              "\n",
              "  [theme=dark] .colab-df-quickchart {\n",
              "      --bg-color: #3B4455;\n",
              "      --fill-color: #D2E3FC;\n",
              "      --hover-bg-color: #434B5C;\n",
              "      --hover-fill-color: #FFFFFF;\n",
              "      --disabled-bg-color: #3B4455;\n",
              "      --disabled-fill-color: #666;\n",
              "  }\n",
              "\n",
              "  .colab-df-quickchart {\n",
              "    background-color: var(--bg-color);\n",
              "    border: none;\n",
              "    border-radius: 50%;\n",
              "    cursor: pointer;\n",
              "    display: none;\n",
              "    fill: var(--fill-color);\n",
              "    height: 32px;\n",
              "    padding: 0;\n",
              "    width: 32px;\n",
              "  }\n",
              "\n",
              "  .colab-df-quickchart:hover {\n",
              "    background-color: var(--hover-bg-color);\n",
              "    box-shadow: 0 1px 2px rgba(60, 64, 67, 0.3), 0 1px 3px 1px rgba(60, 64, 67, 0.15);\n",
              "    fill: var(--button-hover-fill-color);\n",
              "  }\n",
              "\n",
              "  .colab-df-quickchart-complete:disabled,\n",
              "  .colab-df-quickchart-complete:disabled:hover {\n",
              "    background-color: var(--disabled-bg-color);\n",
              "    fill: var(--disabled-fill-color);\n",
              "    box-shadow: none;\n",
              "  }\n",
              "\n",
              "  .colab-df-spinner {\n",
              "    border: 2px solid var(--fill-color);\n",
              "    border-color: transparent;\n",
              "    border-bottom-color: var(--fill-color);\n",
              "    animation:\n",
              "      spin 1s steps(1) infinite;\n",
              "  }\n",
              "\n",
              "  @keyframes spin {\n",
              "    0% {\n",
              "      border-color: transparent;\n",
              "      border-bottom-color: var(--fill-color);\n",
              "      border-left-color: var(--fill-color);\n",
              "    }\n",
              "    20% {\n",
              "      border-color: transparent;\n",
              "      border-left-color: var(--fill-color);\n",
              "      border-top-color: var(--fill-color);\n",
              "    }\n",
              "    30% {\n",
              "      border-color: transparent;\n",
              "      border-left-color: var(--fill-color);\n",
              "      border-top-color: var(--fill-color);\n",
              "      border-right-color: var(--fill-color);\n",
              "    }\n",
              "    40% {\n",
              "      border-color: transparent;\n",
              "      border-right-color: var(--fill-color);\n",
              "      border-top-color: var(--fill-color);\n",
              "    }\n",
              "    60% {\n",
              "      border-color: transparent;\n",
              "      border-right-color: var(--fill-color);\n",
              "    }\n",
              "    80% {\n",
              "      border-color: transparent;\n",
              "      border-right-color: var(--fill-color);\n",
              "      border-bottom-color: var(--fill-color);\n",
              "    }\n",
              "    90% {\n",
              "      border-color: transparent;\n",
              "      border-bottom-color: var(--fill-color);\n",
              "    }\n",
              "  }\n",
              "</style>\n",
              "\n",
              "  <script>\n",
              "    async function quickchart(key) {\n",
              "      const quickchartButtonEl =\n",
              "        document.querySelector('#' + key + ' button');\n",
              "      quickchartButtonEl.disabled = true;  // To prevent multiple clicks.\n",
              "      quickchartButtonEl.classList.add('colab-df-spinner');\n",
              "      try {\n",
              "        const charts = await google.colab.kernel.invokeFunction(\n",
              "            'suggestCharts', [key], {});\n",
              "      } catch (error) {\n",
              "        console.error('Error during call to suggestCharts:', error);\n",
              "      }\n",
              "      quickchartButtonEl.classList.remove('colab-df-spinner');\n",
              "      quickchartButtonEl.classList.add('colab-df-quickchart-complete');\n",
              "    }\n",
              "    (() => {\n",
              "      let quickchartButtonEl =\n",
              "        document.querySelector('#df-4431739a-eddb-4a4c-9dd1-9b7877e7bcd5 button');\n",
              "      quickchartButtonEl.style.display =\n",
              "        google.colab.kernel.accessAllowed ? 'block' : 'none';\n",
              "    })();\n",
              "  </script>\n",
              "</div>\n",
              "\n",
              "    </div>\n",
              "  </div>\n"
            ],
            "application/vnd.google.colaboratory.intrinsic+json": {
              "type": "dataframe",
              "summary": "{\n  \"name\": \"df\",\n  \"rows\": 1992,\n  \"fields\": [\n    {\n      \"column\": \"Ticket\",\n      \"properties\": {\n        \"dtype\": \"string\",\n        \"num_unique_values\": 1991,\n        \"samples\": [\n          \"\\u0648\\u0627\\u0644\\u0644\\u0647 \\u0627\\u0646\\u062a\\u0645 \\u0634\\u0631\\u0643\\u0627\\u0621 \\u0641\\u064a \\u0639\\u0645\\u0644\\u064a\\u0629 \\u0627\\u0644\\u0646\\u0635\\u0628 \\u0648\\u0627\\u0644\\u0643\\u0630\\u0628\\u0629 \\u0627\\u0644\\u062a\\u064a \\u0623\\u0637\\u0644\\u0642\\u0647\\u0627 \\u0628\\u0639\\u0636 \\u0627\\u0644\\u0634\\u0631\\u0643\\u0627\\u062a \\u0648\\u0627\\u0644\\u062a\\u062c\\u0627\\u0631 \\u0628\\u0645\\u0634\\u0627\\u0631\\u0643\\u0629\\n \\u0645\\u0634\\u0627\\u0647\\u064a\\u0631 \\u0627\\u0644\\u0641\\u0644\\u0633 \\n \\u0648\\u0628\\u062a\\u0635\\u0631\\u064a\\u062d \\u0631\\u0633\\u0645\\u064a \\u0645\\u0646\\u0643\\u0645 \\n \\n \\u062c\\u0648\\u0627\\u0626\\u0632 \\n \\u0645\\u0646\\u0627\\u0632\\u0644\\n \\u0633\\u064a\\u0627\\u0631\\u0627\\u062a \\u0627\\u0642\\u064a\\u0645\\u0647\\u0627 \\u062a\\u062a\\u062c\\u0627\\u0648\\u0632 \\u0627\\u0644\\u0645\\u0644\\u064a\\u0648\\u0646 \\u0631\\u064a\\u0627\\u0644 \\n \\n \\u0648\\u0641\\u064a \\u0627\\u0644\\u0646\\u0647\\u0627\\u064a\\u0629 \\n \\u0627\\u0642\\u0633\\u0645 \\u0628\\u0627\\u0644\\u0644\\u0647 \\u0627\\u0644\\u0639\\u0638\\u064a\\u0645 \\u0627\\u0646\\u0647\\u0627 \\u0643\\u0630\\u0628 \\u0641\\u064a \\u0643\\u0630\\u0628 \\n \\n \\u0648\\u0647\\u0630\\u0627 \\u0627\\u0644\\u0639\\u0645\\u0644\\u064a\\u0629 \\u0627\\u0644\\u0625\\u062d\\u062a\\u064a\\u0627\\u0644\\u064a\\u0629 \\u0648\\u0627\\u0644\\u062a\\u064a \\u062a\\u0631\\u0639\\u0627\\u0647\\u0627 \\u0648\\u062a\\u064f\\u0634\\u0627\\u0631\\u0643 \\u0641\\u064a\\u0647\\u0627 \\u0648\\u0632\\u0627\\u0631\\u0629\\u2026\",\n          \"\\u0627\\u063a\\u0644\\u0628 \\u0627\\u0644\\u0645\\u062d\\u0644\\u0627\\u062a \\u0639\\u0645\\u0627\\u0644\\u0647 \\u064a\\u0645\\u0646\\u064a\\u0647 \\u062a\\u0639\\u0645\\u0644 \\u0628\\u0645\\u0647\\u0646 \\u062a\\u0648\\u0637\\u064a\\u0646 \\u0645\\u0642\\u0635\\u0648\\u0631\\u0629 \\u0639\\u0644\\u0649 \\u0627\\u0644\\u0633\\u0639\\u0648\\u062f\\u064a\\u064a\\u0646 \\u0648\\u0627\\u0644\\u0633\\u0639\\u0648\\u062f\\u064a\\u0627\\u062a\\n \\u0645\\u062d\\u0644\\u0627\\u062a \\u0627\\u0644\\u0639\\u0628\\u0627\\u064a\\u0627\\u062a \\u0648\\u0627\\u0644\\u0627\\u0643\\u0633\\u0633\\u0648\\u0631\\u0627\\u062a \\u0648\\u0627\\u0644\\u0639\\u0637\\u0648\\u0631 \\u0648\\u0643\\u0644 \\u0645\\u0627\\u064a\\u0644\\u0632\\u0645 \\u0627\\u0644\\u0645\\u0631\\u0627\\u0647\",\n          \"\\u0627\\u0644\\u064a \\u0646\\u0639\\u0631\\u0641\\u0647 \\u0627\\u0646 \\u0627\\u0634\\u062a\\u0631\\u0627\\u0637 \\u0634\\u0631\\u0627\\u0621 \\u0645\\u0646\\u062a\\u062c \\u0644\\u0644\\u062d\\u0635\\u0648\\u0644 \\u0639 \\u0627\\u0644\\u062c\\u0648\\u0627\\u0626\\u0632 \\u0645\\u0645\\u0646\\u0648\\u0639 \\u0648\\u0644\\u0627 \\u0643\\u064a\\u0641\"\n        ],\n        \"semantic_type\": \"\",\n        \"description\": \"\"\n      }\n    },\n    {\n      \"column\": \"Authority\",\n      \"properties\": {\n        \"dtype\": \"category\",\n        \"num_unique_values\": 4,\n        \"samples\": [\n          \"\\u0627\\u0644\\u0647\\u064a\\u0626\\u0629 \\u0627\\u0644\\u0639\\u0627\\u0645\\u0629 \\u0644\\u0644\\u0646\\u0642\\u0644\",\n          \"\\u0648\\u0632\\u0627\\u0631\\u0629 \\u0627\\u0644\\u0634\\u0624\\u0648\\u0646 \\u0627\\u0644\\u0628\\u0644\\u062f\\u064a\\u0629 \\u0648\\u0627\\u0644\\u0642\\u0631\\u0648\\u064a\\u0629 \\u0648\\u0627\\u0644\\u0625\\u0633\\u0643\\u0627\\u0646\",\n          \"\\u0648\\u0632\\u0627\\u0631\\u0629 \\u0627\\u0644\\u062a\\u062c\\u0627\\u0631\\u0629\"\n        ],\n        \"semantic_type\": \"\",\n        \"description\": \"\"\n      }\n    }\n  ]\n}"
            }
          },
          "metadata": {},
          "execution_count": 16
        }
      ]
    },
    {
      "cell_type": "code",
      "source": [
        "df.columns"
      ],
      "metadata": {
        "colab": {
          "base_uri": "https://localhost:8080/"
        },
        "id": "KZZ-k1xpZcz5",
        "outputId": "a67865aa-ba82-4e0c-a405-6dccce8ce36e"
      },
      "execution_count": 17,
      "outputs": [
        {
          "output_type": "execute_result",
          "data": {
            "text/plain": [
              "Index(['Ticket', 'Authority'], dtype='object')"
            ]
          },
          "metadata": {},
          "execution_count": 17
        }
      ]
    },
    {
      "cell_type": "markdown",
      "source": [
        "# Pre-Processing"
      ],
      "metadata": {
        "id": "UbferL6yNiRs"
      }
    },
    {
      "cell_type": "code",
      "source": [
        "df.Authority[0]"
      ],
      "metadata": {
        "colab": {
          "base_uri": "https://localhost:8080/",
          "height": 36
        },
        "id": "0CGrSSti-b0B",
        "outputId": "5942ebb9-59d3-43f2-a2a4-13e09a90b203"
      },
      "execution_count": 18,
      "outputs": [
        {
          "output_type": "execute_result",
          "data": {
            "text/plain": [
              "'وزارة التجارة'"
            ],
            "application/vnd.google.colaboratory.intrinsic+json": {
              "type": "string"
            }
          },
          "metadata": {},
          "execution_count": 18
        }
      ]
    },
    {
      "cell_type": "code",
      "source": [
        "df.Ticket[0]"
      ],
      "metadata": {
        "colab": {
          "base_uri": "https://localhost:8080/",
          "height": 36
        },
        "id": "40vpVOTs-bnf",
        "outputId": "50e0ca03-70c0-459d-e2e4-5a98d593dab0"
      },
      "execution_count": 19,
      "outputs": [
        {
          "output_type": "execute_result",
          "data": {
            "text/plain": [
              "'السلام عليكم . سنتر جديد وعروض خياليه تتسبب بزحام خانق من الزبائن . تتفأجاء بطمس الاسعار من بعض المنتجات ؟ لا اعتقد ان ازالة السعر بهذا الشكل صدفة! \\n اتمني من فرع وزارة التجارة فرع'"
            ],
            "application/vnd.google.colaboratory.intrinsic+json": {
              "type": "string"
            }
          },
          "metadata": {},
          "execution_count": 19
        }
      ]
    },
    {
      "cell_type": "code",
      "source": [
        "def remove_numbers(text):\n",
        "    cleaned_text = re.sub(r'\\d+', '', text)\n",
        "    return cleaned_text\n",
        "\n",
        "# Apply remove_numbers function to the 'Text' column\n",
        "df['cleaned_Authority'] = df['Authority'].apply(remove_numbers)\n",
        "df['cleaned_Ticket'] = df['Ticket'].apply(remove_numbers)"
      ],
      "metadata": {
        "id": "bk_QyHTL-9UQ"
      },
      "execution_count": 20,
      "outputs": []
    },
    {
      "cell_type": "code",
      "source": [
        "df['cleaned_Authority'][0]"
      ],
      "metadata": {
        "colab": {
          "base_uri": "https://localhost:8080/",
          "height": 36
        },
        "id": "y_WR4gFV-9Ik",
        "outputId": "6f867911-0ffd-4f83-bb33-e24ad767ef1c"
      },
      "execution_count": 21,
      "outputs": [
        {
          "output_type": "execute_result",
          "data": {
            "text/plain": [
              "'وزارة التجارة'"
            ],
            "application/vnd.google.colaboratory.intrinsic+json": {
              "type": "string"
            }
          },
          "metadata": {},
          "execution_count": 21
        }
      ]
    },
    {
      "cell_type": "code",
      "source": [
        "df['cleaned_Ticket'][0]"
      ],
      "metadata": {
        "colab": {
          "base_uri": "https://localhost:8080/",
          "height": 36
        },
        "id": "A_XtQesO-8yb",
        "outputId": "fbb407d3-455e-4d8a-d54a-fb36d981dedc"
      },
      "execution_count": 22,
      "outputs": [
        {
          "output_type": "execute_result",
          "data": {
            "text/plain": [
              "'السلام عليكم . سنتر جديد وعروض خياليه تتسبب بزحام خانق من الزبائن . تتفأجاء بطمس الاسعار من بعض المنتجات ؟ لا اعتقد ان ازالة السعر بهذا الشكل صدفة! \\n اتمني من فرع وزارة التجارة فرع'"
            ],
            "application/vnd.google.colaboratory.intrinsic+json": {
              "type": "string"
            }
          },
          "metadata": {},
          "execution_count": 22
        }
      ]
    },
    {
      "cell_type": "code",
      "source": [
        "ara_punctuations = '''`÷×؛<>_()*&^%][ـ،/:\"؟.,'{}~¦+|!”…“–ـ''' + string.punctuation\n",
        "stop_words = stopwords.words()\n",
        "\n",
        "def preprocess(text):\n",
        "\n",
        "    #remove punctuations\n",
        "    translator = str.maketrans('', '', ara_punctuations)\n",
        "    text = text.translate(translator)\n",
        "\n",
        "    return text\n",
        "\n",
        "\n",
        "df['cleaned_Authority'] = df['cleaned_Authority'].apply(preprocess)\n",
        "df['cleaned_Ticket'] = df['cleaned_Ticket'].apply(preprocess)"
      ],
      "metadata": {
        "id": "scg7VdUc_VRt"
      },
      "execution_count": 23,
      "outputs": []
    },
    {
      "cell_type": "code",
      "source": [
        "df['cleaned_Authority'][0]"
      ],
      "metadata": {
        "colab": {
          "base_uri": "https://localhost:8080/",
          "height": 36
        },
        "id": "_K2IUAQb_VLC",
        "outputId": "1c350518-71f8-4707-d6f1-db61ee559f11"
      },
      "execution_count": 24,
      "outputs": [
        {
          "output_type": "execute_result",
          "data": {
            "text/plain": [
              "'وزارة التجارة'"
            ],
            "application/vnd.google.colaboratory.intrinsic+json": {
              "type": "string"
            }
          },
          "metadata": {},
          "execution_count": 24
        }
      ]
    },
    {
      "cell_type": "code",
      "source": [
        "df['cleaned_Ticket'][0]"
      ],
      "metadata": {
        "colab": {
          "base_uri": "https://localhost:8080/",
          "height": 36
        },
        "id": "70h9Po0M_U6v",
        "outputId": "dd71aec6-464a-44cd-8b77-e61dbe11e60a"
      },
      "execution_count": 25,
      "outputs": [
        {
          "output_type": "execute_result",
          "data": {
            "text/plain": [
              "'السلام عليكم  سنتر جديد وعروض خياليه تتسبب بزحام خانق من الزبائن  تتفأجاء بطمس الاسعار من بعض المنتجات  لا اعتقد ان ازالة السعر بهذا الشكل صدفة \\n اتمني من فرع وزارة التجارة فرع'"
            ],
            "application/vnd.google.colaboratory.intrinsic+json": {
              "type": "string"
            }
          },
          "metadata": {},
          "execution_count": 25
        }
      ]
    },
    {
      "cell_type": "code",
      "source": [
        "import re\n",
        "\n",
        "def remove_spaces_arabic(text):\n",
        "    # Define a regular expression pattern to match spaces in Arabic text\n",
        "    pattern = r'\\s+'\n",
        "\n",
        "    # Use the sub() function from the re library to replace spaces with an empty string\n",
        "    cleaned_text = re.sub(pattern, ' ', text)\n",
        "    return cleaned_text\n",
        "df['cleaned_Authority'] = df['cleaned_Authority'].apply(remove_spaces_arabic)\n",
        "df['cleaned_Ticket'] = df['cleaned_Ticket'].apply(remove_spaces_arabic)"
      ],
      "metadata": {
        "id": "o8xsVBpLAtB1"
      },
      "execution_count": 26,
      "outputs": []
    },
    {
      "cell_type": "code",
      "source": [
        "df[\"cleaned_Authority\"][0]"
      ],
      "metadata": {
        "colab": {
          "base_uri": "https://localhost:8080/",
          "height": 36
        },
        "id": "si25fJB3AzhZ",
        "outputId": "1772fa85-2bf2-4d79-f258-53214ee70f0d"
      },
      "execution_count": 27,
      "outputs": [
        {
          "output_type": "execute_result",
          "data": {
            "text/plain": [
              "'وزارة التجارة'"
            ],
            "application/vnd.google.colaboratory.intrinsic+json": {
              "type": "string"
            }
          },
          "metadata": {},
          "execution_count": 27
        }
      ]
    },
    {
      "cell_type": "code",
      "source": [
        "df[\"cleaned_Ticket\"][0]"
      ],
      "metadata": {
        "colab": {
          "base_uri": "https://localhost:8080/",
          "height": 36
        },
        "id": "Oc74SDyHA04N",
        "outputId": "e26fc71f-7a1c-4a41-d9f8-69b373227672"
      },
      "execution_count": 28,
      "outputs": [
        {
          "output_type": "execute_result",
          "data": {
            "text/plain": [
              "'السلام عليكم سنتر جديد وعروض خياليه تتسبب بزحام خانق من الزبائن تتفأجاء بطمس الاسعار من بعض المنتجات لا اعتقد ان ازالة السعر بهذا الشكل صدفة اتمني من فرع وزارة التجارة فرع'"
            ],
            "application/vnd.google.colaboratory.intrinsic+json": {
              "type": "string"
            }
          },
          "metadata": {},
          "execution_count": 28
        }
      ]
    },
    {
      "cell_type": "code",
      "source": [
        "import nltk\n",
        "nltk.download('isri')\n",
        "\n",
        "from nltk.stem.isri import ISRIStemmer\n",
        "\n",
        "stemmer = ISRIStemmer()\n",
        "\n",
        "\n",
        "# Function to apply stemming using ISRIStemmer to a text\n",
        "def apply_stemming(text):\n",
        "    stemmed_text = [stemmer.stem(word) for word in text.split()]\n",
        "    return ' '.join(stemmed_text)\n",
        "\n",
        "# Apply stemming to the 'Text' column\n",
        "df['cleaned_Authority'] = df['cleaned_Authority'].apply(apply_stemming)\n",
        "df['cleaned_Ticket'] = df['cleaned_Ticket'].apply(apply_stemming)"
      ],
      "metadata": {
        "colab": {
          "base_uri": "https://localhost:8080/"
        },
        "id": "h9gGEizGBRQW",
        "outputId": "74c3e6dc-579a-4024-d1f8-0c59f087dc66"
      },
      "execution_count": 29,
      "outputs": [
        {
          "output_type": "stream",
          "name": "stderr",
          "text": [
            "[nltk_data] Error loading isri: Package 'isri' not found in index\n"
          ]
        }
      ]
    },
    {
      "cell_type": "code",
      "source": [
        "df['cleaned_Authority'][0]"
      ],
      "metadata": {
        "colab": {
          "base_uri": "https://localhost:8080/",
          "height": 36
        },
        "id": "FP43p6MVBtft",
        "outputId": "a7cf06f3-f525-46be-976d-6f49a32f84c3"
      },
      "execution_count": 30,
      "outputs": [
        {
          "output_type": "execute_result",
          "data": {
            "text/plain": [
              "'وزر جار'"
            ],
            "application/vnd.google.colaboratory.intrinsic+json": {
              "type": "string"
            }
          },
          "metadata": {},
          "execution_count": 30
        }
      ]
    },
    {
      "cell_type": "code",
      "source": [
        "df['cleaned_Ticket'][0]"
      ],
      "metadata": {
        "colab": {
          "base_uri": "https://localhost:8080/",
          "height": 36
        },
        "id": "cFsJWZKdBwT3",
        "outputId": "f9363626-cb36-400c-b10b-c12c4e6d7dc5"
      },
      "execution_count": 31,
      "outputs": [
        {
          "output_type": "execute_result",
          "data": {
            "text/plain": [
              "'سلم علي نتر جدد عرض خيل سبب زحم خنق من زبن أجء طمس سعر من بعض نتج لا عقد ان زلة سعر بهذا شكل صدف اتم من فرع وزر جار فرع'"
            ],
            "application/vnd.google.colaboratory.intrinsic+json": {
              "type": "string"
            }
          },
          "metadata": {},
          "execution_count": 31
        }
      ]
    },
    {
      "cell_type": "code",
      "source": [
        "df.head()"
      ],
      "metadata": {
        "id": "w2RjQfykCeq8",
        "colab": {
          "base_uri": "https://localhost:8080/",
          "height": 206
        },
        "outputId": "52bb4fb2-aa42-4a3f-9639-b5bcce7cb3ec"
      },
      "execution_count": 32,
      "outputs": [
        {
          "output_type": "execute_result",
          "data": {
            "text/plain": [
              "                                              Ticket            Authority  \\\n",
              "0  السلام عليكم . سنتر جديد وعروض خياليه تتسبب بز...        وزارة التجارة   \n",
              "1  السلام عليكم ورحمة الله وبركاته خوتم مباركه لد...        وزارة التجارة   \n",
              "2           لي شحنه شي ان لها استرجاع من شركة ايمايل  الهيئة العامة للنقل   \n",
              "3  تم تزويدكم برقم الهاتف والإسم حسب طلبكم بالخاص...        وزارة التجارة   \n",
              "4  السلام عليكم ورحمة الله وبركاته، يا اخوان لي ا...        وزارة التجارة   \n",
              "\n",
              "  cleaned_Authority                                     cleaned_Ticket  \n",
              "0           وزر جار  سلم علي نتر جدد عرض خيل سبب زحم خنق من زبن أجء...  \n",
              "1           وزر جار  سلم علي رحم الل وبر خوتم برك لدا طلب فرع رقم ر...  \n",
              "2       هيئ عمة نقل                    لي شحن شي ان لها رجع من شرك ايل  \n",
              "3           وزر جار  تم زود رقم هتف اسم حسب طلب خاص وهذ عمل شرء لغء...  \n",
              "4           وزر جار  سلم علي رحم الل وبر يا اخو لي الن شهر نظر رجع ...  "
            ],
            "text/html": [
              "\n",
              "  <div id=\"df-a30bf223-fbd1-40cc-85f4-f8ab0e8cc78f\" class=\"colab-df-container\">\n",
              "    <div>\n",
              "<style scoped>\n",
              "    .dataframe tbody tr th:only-of-type {\n",
              "        vertical-align: middle;\n",
              "    }\n",
              "\n",
              "    .dataframe tbody tr th {\n",
              "        vertical-align: top;\n",
              "    }\n",
              "\n",
              "    .dataframe thead th {\n",
              "        text-align: right;\n",
              "    }\n",
              "</style>\n",
              "<table border=\"1\" class=\"dataframe\">\n",
              "  <thead>\n",
              "    <tr style=\"text-align: right;\">\n",
              "      <th></th>\n",
              "      <th>Ticket</th>\n",
              "      <th>Authority</th>\n",
              "      <th>cleaned_Authority</th>\n",
              "      <th>cleaned_Ticket</th>\n",
              "    </tr>\n",
              "  </thead>\n",
              "  <tbody>\n",
              "    <tr>\n",
              "      <th>0</th>\n",
              "      <td>السلام عليكم . سنتر جديد وعروض خياليه تتسبب بز...</td>\n",
              "      <td>وزارة التجارة</td>\n",
              "      <td>وزر جار</td>\n",
              "      <td>سلم علي نتر جدد عرض خيل سبب زحم خنق من زبن أجء...</td>\n",
              "    </tr>\n",
              "    <tr>\n",
              "      <th>1</th>\n",
              "      <td>السلام عليكم ورحمة الله وبركاته خوتم مباركه لد...</td>\n",
              "      <td>وزارة التجارة</td>\n",
              "      <td>وزر جار</td>\n",
              "      <td>سلم علي رحم الل وبر خوتم برك لدا طلب فرع رقم ر...</td>\n",
              "    </tr>\n",
              "    <tr>\n",
              "      <th>2</th>\n",
              "      <td>لي شحنه شي ان لها استرجاع من شركة ايمايل</td>\n",
              "      <td>الهيئة العامة للنقل</td>\n",
              "      <td>هيئ عمة نقل</td>\n",
              "      <td>لي شحن شي ان لها رجع من شرك ايل</td>\n",
              "    </tr>\n",
              "    <tr>\n",
              "      <th>3</th>\n",
              "      <td>تم تزويدكم برقم الهاتف والإسم حسب طلبكم بالخاص...</td>\n",
              "      <td>وزارة التجارة</td>\n",
              "      <td>وزر جار</td>\n",
              "      <td>تم زود رقم هتف اسم حسب طلب خاص وهذ عمل شرء لغء...</td>\n",
              "    </tr>\n",
              "    <tr>\n",
              "      <th>4</th>\n",
              "      <td>السلام عليكم ورحمة الله وبركاته، يا اخوان لي ا...</td>\n",
              "      <td>وزارة التجارة</td>\n",
              "      <td>وزر جار</td>\n",
              "      <td>سلم علي رحم الل وبر يا اخو لي الن شهر نظر رجع ...</td>\n",
              "    </tr>\n",
              "  </tbody>\n",
              "</table>\n",
              "</div>\n",
              "    <div class=\"colab-df-buttons\">\n",
              "\n",
              "  <div class=\"colab-df-container\">\n",
              "    <button class=\"colab-df-convert\" onclick=\"convertToInteractive('df-a30bf223-fbd1-40cc-85f4-f8ab0e8cc78f')\"\n",
              "            title=\"Convert this dataframe to an interactive table.\"\n",
              "            style=\"display:none;\">\n",
              "\n",
              "  <svg xmlns=\"http://www.w3.org/2000/svg\" height=\"24px\" viewBox=\"0 -960 960 960\">\n",
              "    <path d=\"M120-120v-720h720v720H120Zm60-500h600v-160H180v160Zm220 220h160v-160H400v160Zm0 220h160v-160H400v160ZM180-400h160v-160H180v160Zm440 0h160v-160H620v160ZM180-180h160v-160H180v160Zm440 0h160v-160H620v160Z\"/>\n",
              "  </svg>\n",
              "    </button>\n",
              "\n",
              "  <style>\n",
              "    .colab-df-container {\n",
              "      display:flex;\n",
              "      gap: 12px;\n",
              "    }\n",
              "\n",
              "    .colab-df-convert {\n",
              "      background-color: #E8F0FE;\n",
              "      border: none;\n",
              "      border-radius: 50%;\n",
              "      cursor: pointer;\n",
              "      display: none;\n",
              "      fill: #1967D2;\n",
              "      height: 32px;\n",
              "      padding: 0 0 0 0;\n",
              "      width: 32px;\n",
              "    }\n",
              "\n",
              "    .colab-df-convert:hover {\n",
              "      background-color: #E2EBFA;\n",
              "      box-shadow: 0px 1px 2px rgba(60, 64, 67, 0.3), 0px 1px 3px 1px rgba(60, 64, 67, 0.15);\n",
              "      fill: #174EA6;\n",
              "    }\n",
              "\n",
              "    .colab-df-buttons div {\n",
              "      margin-bottom: 4px;\n",
              "    }\n",
              "\n",
              "    [theme=dark] .colab-df-convert {\n",
              "      background-color: #3B4455;\n",
              "      fill: #D2E3FC;\n",
              "    }\n",
              "\n",
              "    [theme=dark] .colab-df-convert:hover {\n",
              "      background-color: #434B5C;\n",
              "      box-shadow: 0px 1px 3px 1px rgba(0, 0, 0, 0.15);\n",
              "      filter: drop-shadow(0px 1px 2px rgba(0, 0, 0, 0.3));\n",
              "      fill: #FFFFFF;\n",
              "    }\n",
              "  </style>\n",
              "\n",
              "    <script>\n",
              "      const buttonEl =\n",
              "        document.querySelector('#df-a30bf223-fbd1-40cc-85f4-f8ab0e8cc78f button.colab-df-convert');\n",
              "      buttonEl.style.display =\n",
              "        google.colab.kernel.accessAllowed ? 'block' : 'none';\n",
              "\n",
              "      async function convertToInteractive(key) {\n",
              "        const element = document.querySelector('#df-a30bf223-fbd1-40cc-85f4-f8ab0e8cc78f');\n",
              "        const dataTable =\n",
              "          await google.colab.kernel.invokeFunction('convertToInteractive',\n",
              "                                                    [key], {});\n",
              "        if (!dataTable) return;\n",
              "\n",
              "        const docLinkHtml = 'Like what you see? Visit the ' +\n",
              "          '<a target=\"_blank\" href=https://colab.research.google.com/notebooks/data_table.ipynb>data table notebook</a>'\n",
              "          + ' to learn more about interactive tables.';\n",
              "        element.innerHTML = '';\n",
              "        dataTable['output_type'] = 'display_data';\n",
              "        await google.colab.output.renderOutput(dataTable, element);\n",
              "        const docLink = document.createElement('div');\n",
              "        docLink.innerHTML = docLinkHtml;\n",
              "        element.appendChild(docLink);\n",
              "      }\n",
              "    </script>\n",
              "  </div>\n",
              "\n",
              "\n",
              "<div id=\"df-3431b09d-4c15-4631-9305-154a2fa584f3\">\n",
              "  <button class=\"colab-df-quickchart\" onclick=\"quickchart('df-3431b09d-4c15-4631-9305-154a2fa584f3')\"\n",
              "            title=\"Suggest charts\"\n",
              "            style=\"display:none;\">\n",
              "\n",
              "<svg xmlns=\"http://www.w3.org/2000/svg\" height=\"24px\"viewBox=\"0 0 24 24\"\n",
              "     width=\"24px\">\n",
              "    <g>\n",
              "        <path d=\"M19 3H5c-1.1 0-2 .9-2 2v14c0 1.1.9 2 2 2h14c1.1 0 2-.9 2-2V5c0-1.1-.9-2-2-2zM9 17H7v-7h2v7zm4 0h-2V7h2v10zm4 0h-2v-4h2v4z\"/>\n",
              "    </g>\n",
              "</svg>\n",
              "  </button>\n",
              "\n",
              "<style>\n",
              "  .colab-df-quickchart {\n",
              "      --bg-color: #E8F0FE;\n",
              "      --fill-color: #1967D2;\n",
              "      --hover-bg-color: #E2EBFA;\n",
              "      --hover-fill-color: #174EA6;\n",
              "      --disabled-fill-color: #AAA;\n",
              "      --disabled-bg-color: #DDD;\n",
              "  }\n",
              "\n",
              "  [theme=dark] .colab-df-quickchart {\n",
              "      --bg-color: #3B4455;\n",
              "      --fill-color: #D2E3FC;\n",
              "      --hover-bg-color: #434B5C;\n",
              "      --hover-fill-color: #FFFFFF;\n",
              "      --disabled-bg-color: #3B4455;\n",
              "      --disabled-fill-color: #666;\n",
              "  }\n",
              "\n",
              "  .colab-df-quickchart {\n",
              "    background-color: var(--bg-color);\n",
              "    border: none;\n",
              "    border-radius: 50%;\n",
              "    cursor: pointer;\n",
              "    display: none;\n",
              "    fill: var(--fill-color);\n",
              "    height: 32px;\n",
              "    padding: 0;\n",
              "    width: 32px;\n",
              "  }\n",
              "\n",
              "  .colab-df-quickchart:hover {\n",
              "    background-color: var(--hover-bg-color);\n",
              "    box-shadow: 0 1px 2px rgba(60, 64, 67, 0.3), 0 1px 3px 1px rgba(60, 64, 67, 0.15);\n",
              "    fill: var(--button-hover-fill-color);\n",
              "  }\n",
              "\n",
              "  .colab-df-quickchart-complete:disabled,\n",
              "  .colab-df-quickchart-complete:disabled:hover {\n",
              "    background-color: var(--disabled-bg-color);\n",
              "    fill: var(--disabled-fill-color);\n",
              "    box-shadow: none;\n",
              "  }\n",
              "\n",
              "  .colab-df-spinner {\n",
              "    border: 2px solid var(--fill-color);\n",
              "    border-color: transparent;\n",
              "    border-bottom-color: var(--fill-color);\n",
              "    animation:\n",
              "      spin 1s steps(1) infinite;\n",
              "  }\n",
              "\n",
              "  @keyframes spin {\n",
              "    0% {\n",
              "      border-color: transparent;\n",
              "      border-bottom-color: var(--fill-color);\n",
              "      border-left-color: var(--fill-color);\n",
              "    }\n",
              "    20% {\n",
              "      border-color: transparent;\n",
              "      border-left-color: var(--fill-color);\n",
              "      border-top-color: var(--fill-color);\n",
              "    }\n",
              "    30% {\n",
              "      border-color: transparent;\n",
              "      border-left-color: var(--fill-color);\n",
              "      border-top-color: var(--fill-color);\n",
              "      border-right-color: var(--fill-color);\n",
              "    }\n",
              "    40% {\n",
              "      border-color: transparent;\n",
              "      border-right-color: var(--fill-color);\n",
              "      border-top-color: var(--fill-color);\n",
              "    }\n",
              "    60% {\n",
              "      border-color: transparent;\n",
              "      border-right-color: var(--fill-color);\n",
              "    }\n",
              "    80% {\n",
              "      border-color: transparent;\n",
              "      border-right-color: var(--fill-color);\n",
              "      border-bottom-color: var(--fill-color);\n",
              "    }\n",
              "    90% {\n",
              "      border-color: transparent;\n",
              "      border-bottom-color: var(--fill-color);\n",
              "    }\n",
              "  }\n",
              "</style>\n",
              "\n",
              "  <script>\n",
              "    async function quickchart(key) {\n",
              "      const quickchartButtonEl =\n",
              "        document.querySelector('#' + key + ' button');\n",
              "      quickchartButtonEl.disabled = true;  // To prevent multiple clicks.\n",
              "      quickchartButtonEl.classList.add('colab-df-spinner');\n",
              "      try {\n",
              "        const charts = await google.colab.kernel.invokeFunction(\n",
              "            'suggestCharts', [key], {});\n",
              "      } catch (error) {\n",
              "        console.error('Error during call to suggestCharts:', error);\n",
              "      }\n",
              "      quickchartButtonEl.classList.remove('colab-df-spinner');\n",
              "      quickchartButtonEl.classList.add('colab-df-quickchart-complete');\n",
              "    }\n",
              "    (() => {\n",
              "      let quickchartButtonEl =\n",
              "        document.querySelector('#df-3431b09d-4c15-4631-9305-154a2fa584f3 button');\n",
              "      quickchartButtonEl.style.display =\n",
              "        google.colab.kernel.accessAllowed ? 'block' : 'none';\n",
              "    })();\n",
              "  </script>\n",
              "</div>\n",
              "\n",
              "    </div>\n",
              "  </div>\n"
            ],
            "application/vnd.google.colaboratory.intrinsic+json": {
              "type": "dataframe",
              "variable_name": "df",
              "summary": "{\n  \"name\": \"df\",\n  \"rows\": 2004,\n  \"fields\": [\n    {\n      \"column\": \"Ticket\",\n      \"properties\": {\n        \"dtype\": \"string\",\n        \"num_unique_values\": 1991,\n        \"samples\": [\n          \"\\u0648\\u0627\\u0644\\u0644\\u0647 \\u0627\\u0646\\u062a\\u0645 \\u0634\\u0631\\u0643\\u0627\\u0621 \\u0641\\u064a \\u0639\\u0645\\u0644\\u064a\\u0629 \\u0627\\u0644\\u0646\\u0635\\u0628 \\u0648\\u0627\\u0644\\u0643\\u0630\\u0628\\u0629 \\u0627\\u0644\\u062a\\u064a \\u0623\\u0637\\u0644\\u0642\\u0647\\u0627 \\u0628\\u0639\\u0636 \\u0627\\u0644\\u0634\\u0631\\u0643\\u0627\\u062a \\u0648\\u0627\\u0644\\u062a\\u062c\\u0627\\u0631 \\u0628\\u0645\\u0634\\u0627\\u0631\\u0643\\u0629\\n \\u0645\\u0634\\u0627\\u0647\\u064a\\u0631 \\u0627\\u0644\\u0641\\u0644\\u0633 \\n \\u0648\\u0628\\u062a\\u0635\\u0631\\u064a\\u062d \\u0631\\u0633\\u0645\\u064a \\u0645\\u0646\\u0643\\u0645 \\n \\n \\u062c\\u0648\\u0627\\u0626\\u0632 \\n \\u0645\\u0646\\u0627\\u0632\\u0644\\n \\u0633\\u064a\\u0627\\u0631\\u0627\\u062a \\u0627\\u0642\\u064a\\u0645\\u0647\\u0627 \\u062a\\u062a\\u062c\\u0627\\u0648\\u0632 \\u0627\\u0644\\u0645\\u0644\\u064a\\u0648\\u0646 \\u0631\\u064a\\u0627\\u0644 \\n \\n \\u0648\\u0641\\u064a \\u0627\\u0644\\u0646\\u0647\\u0627\\u064a\\u0629 \\n \\u0627\\u0642\\u0633\\u0645 \\u0628\\u0627\\u0644\\u0644\\u0647 \\u0627\\u0644\\u0639\\u0638\\u064a\\u0645 \\u0627\\u0646\\u0647\\u0627 \\u0643\\u0630\\u0628 \\u0641\\u064a \\u0643\\u0630\\u0628 \\n \\n \\u0648\\u0647\\u0630\\u0627 \\u0627\\u0644\\u0639\\u0645\\u0644\\u064a\\u0629 \\u0627\\u0644\\u0625\\u062d\\u062a\\u064a\\u0627\\u0644\\u064a\\u0629 \\u0648\\u0627\\u0644\\u062a\\u064a \\u062a\\u0631\\u0639\\u0627\\u0647\\u0627 \\u0648\\u062a\\u064f\\u0634\\u0627\\u0631\\u0643 \\u0641\\u064a\\u0647\\u0627 \\u0648\\u0632\\u0627\\u0631\\u0629\\u2026\",\n          \"\\u0627\\u063a\\u0644\\u0628 \\u0627\\u0644\\u0645\\u062d\\u0644\\u0627\\u062a \\u0639\\u0645\\u0627\\u0644\\u0647 \\u064a\\u0645\\u0646\\u064a\\u0647 \\u062a\\u0639\\u0645\\u0644 \\u0628\\u0645\\u0647\\u0646 \\u062a\\u0648\\u0637\\u064a\\u0646 \\u0645\\u0642\\u0635\\u0648\\u0631\\u0629 \\u0639\\u0644\\u0649 \\u0627\\u0644\\u0633\\u0639\\u0648\\u062f\\u064a\\u064a\\u0646 \\u0648\\u0627\\u0644\\u0633\\u0639\\u0648\\u062f\\u064a\\u0627\\u062a\\n \\u0645\\u062d\\u0644\\u0627\\u062a \\u0627\\u0644\\u0639\\u0628\\u0627\\u064a\\u0627\\u062a \\u0648\\u0627\\u0644\\u0627\\u0643\\u0633\\u0633\\u0648\\u0631\\u0627\\u062a \\u0648\\u0627\\u0644\\u0639\\u0637\\u0648\\u0631 \\u0648\\u0643\\u0644 \\u0645\\u0627\\u064a\\u0644\\u0632\\u0645 \\u0627\\u0644\\u0645\\u0631\\u0627\\u0647\",\n          \"\\u0627\\u0644\\u064a \\u0646\\u0639\\u0631\\u0641\\u0647 \\u0627\\u0646 \\u0627\\u0634\\u062a\\u0631\\u0627\\u0637 \\u0634\\u0631\\u0627\\u0621 \\u0645\\u0646\\u062a\\u062c \\u0644\\u0644\\u062d\\u0635\\u0648\\u0644 \\u0639 \\u0627\\u0644\\u062c\\u0648\\u0627\\u0626\\u0632 \\u0645\\u0645\\u0646\\u0648\\u0639 \\u0648\\u0644\\u0627 \\u0643\\u064a\\u0641\"\n        ],\n        \"semantic_type\": \"\",\n        \"description\": \"\"\n      }\n    },\n    {\n      \"column\": \"Authority\",\n      \"properties\": {\n        \"dtype\": \"category\",\n        \"num_unique_values\": 4,\n        \"samples\": [\n          \"\\u0627\\u0644\\u0647\\u064a\\u0626\\u0629 \\u0627\\u0644\\u0639\\u0627\\u0645\\u0629 \\u0644\\u0644\\u0646\\u0642\\u0644\",\n          \"\\u0648\\u0632\\u0627\\u0631\\u0629 \\u0627\\u0644\\u0634\\u0624\\u0648\\u0646 \\u0627\\u0644\\u0628\\u0644\\u062f\\u064a\\u0629 \\u0648\\u0627\\u0644\\u0642\\u0631\\u0648\\u064a\\u0629 \\u0648\\u0627\\u0644\\u0625\\u0633\\u0643\\u0627\\u0646\",\n          \"\\u0648\\u0632\\u0627\\u0631\\u0629 \\u0627\\u0644\\u062a\\u062c\\u0627\\u0631\\u0629\"\n        ],\n        \"semantic_type\": \"\",\n        \"description\": \"\"\n      }\n    },\n    {\n      \"column\": \"cleaned_Authority\",\n      \"properties\": {\n        \"dtype\": \"category\",\n        \"num_unique_values\": 4,\n        \"samples\": [\n          \"\\u0647\\u064a\\u0626 \\u0639\\u0645\\u0629 \\u0646\\u0642\\u0644\",\n          \"\\u0648\\u0632\\u0631 \\u0634\\u0624\\u0646 \\u0628\\u0644\\u062f \\u0642\\u0631\\u064a \\u0627\\u0633\\u0643\",\n          \"\\u0648\\u0632\\u0631 \\u062c\\u0627\\u0631\"\n        ],\n        \"semantic_type\": \"\",\n        \"description\": \"\"\n      }\n    },\n    {\n      \"column\": \"cleaned_Ticket\",\n      \"properties\": {\n        \"dtype\": \"string\",\n        \"num_unique_values\": 1984,\n        \"samples\": [\n          \"\\u0635\\u062d\\u062d \\u0641\\u064a\\u0647 \\u0634\\u0643\\u0644 \\u0642\\u0637\\u0639 \\u0646\\u0642\\u0635\",\n          \"\\u0623\\u062e\\u0631 \\u0641\\u064a \\u0646\\u0641\\u0630 \\u062f\\u0641\\u0639 \\u0634\\u0647\\u0631 \\u0642\\u0631\\u0636 \\u0639\\u0642\\u0631 \\u0645\\u0646 \\u0628\\u0646\\u0643 \\u0631\\u062c\\u062d\",\n          \"\\u0648\\u0644\\u0627 \\u0641\\u064a\\u0647 \\u0627\\u064a \\u0641\\u064a\\u062f \\u0627\\u0648 \\u062c\\u0627\\u0628 \\u0643\\u064a\\u0641 \\u0628\\u063a\\u0648 \\u0628\\u0644\\u063a \\u0639\\u0644\\u0649 \\u0627\\u064a \\u063a\\u0634 \\u0628\\u0644\\u063a \\u0627\\u0635\\u0644 \\u0645\\u0627\\u062a\\u0623\\u062e\\u0630 \\u0628\\u0639\\u0646 \\u0639\\u0628\\u0631\"\n        ],\n        \"semantic_type\": \"\",\n        \"description\": \"\"\n      }\n    }\n  ]\n}"
            }
          },
          "metadata": {},
          "execution_count": 32
        }
      ]
    },
    {
      "cell_type": "markdown",
      "source": [
        "# Machine learning model\n",
        "\n"
      ],
      "metadata": {
        "id": "tVd6bsbOOqzz"
      }
    },
    {
      "cell_type": "code",
      "source": [
        "#import all nesscery\n",
        "import pandas as pd #for data manipulation and analysis in Python.\n",
        "from sklearn.model_selection import train_test_split #This function is commonly used to split a dataset into training and testing subsets.\n",
        "from sklearn.feature_extraction.text import TfidfVectorizer #convert a collection of raw documents into a matrix of TF-IDF features.\n",
        "from sklearn.svm import SVC #SVC stands for Support Vector Classifier, which is a type of support vector machine model used for classification tasks.\n",
        "from sklearn.metrics import accuracy_score #This function is used to calculate the accuracy of a classification model.\n",
        "import matplotlib.pyplot as plt #commonly used for creating plots and visualizations in Python.\n",
        "from sklearn.preprocessing import MinMaxScaler #is used for scaling features to a range, typically between 0 and 1.\n",
        "from sklearn.tree import DecisionTreeClassifier # Decision trees are a type of supervised learning algorithm used for classification and regression tasks.\n",
        "from sklearn.metrics import confusion_matrix #is used to evaluate the performance of a classification model by comparing predicted labels with true labels.\n",
        "from sklearn import tree #provides tools for working with decision trees and related algorithms."
      ],
      "metadata": {
        "id": "u8RDiVQGO4k1"
      },
      "execution_count": 33,
      "outputs": []
    },
    {
      "cell_type": "code",
      "source": [
        "#split training and testing\n",
        "x_stemmed = df['cleaned_Ticket'] # This line extracts the feature data from the DataFrame df. It assumes that the DataFrame contains a column named 'cleaned_Content',\n",
        "#which likely holds preprocessed or cleaned text data.\n",
        "y = df['Authority'] #This line extracts the target variable (or label) from the DataFrame df. It assumes that the DataFrame contains a column named 'Category',\n",
        "#which likely represents the class or category each data point belongs to.\n",
        "\n",
        "x_train, x_test, y_train, y_test = train_test_split(x_stemmed, y, test_size=0.2, random_state=42)\n",
        "\n",
        "#This line splits the data into training and testing sets using the train_test_split function imported from scikit-learn earlier.\n",
        "#x_stemmed: This is the feature data that will be split into training and testing sets.\n",
        "#y: This is the target variable associated with each data point.\n",
        "#test_size=0.2: This parameter specifies the proportion of the dataset to include in the testing set. Here, it's set to 0.2, meaning 20% of the data will be used for testing, and the remaining 80% will be used for training.\n",
        "#random_state=42: This parameter sets the random seed for reproducibility. It ensures that the split is deterministic and the same split can be reproduced if the code is run again with the same seed."
      ],
      "metadata": {
        "id": "JCYIjSxvO5V1"
      },
      "execution_count": 34,
      "outputs": []
    },
    {
      "cell_type": "markdown",
      "source": [
        "# **Support Vector Machine (SVM)**"
      ],
      "metadata": {
        "id": "ugs5jXIfPPpO"
      }
    },
    {
      "cell_type": "code",
      "source": [
        "from sklearn.feature_extraction.text import TfidfVectorizer\n",
        "\n",
        "vectorizer = TfidfVectorizer() #NLP tech\n",
        "x_train_vectorized = vectorizer.fit_transform(x_train)\n",
        "x_test_vectorized = vectorizer.transform(x_test)"
      ],
      "metadata": {
        "id": "wG9po4_7O5Nr"
      },
      "execution_count": 35,
      "outputs": []
    },
    {
      "cell_type": "markdown",
      "source": [],
      "metadata": {
        "id": "OZORoUSBQMhb"
      }
    },
    {
      "cell_type": "code",
      "source": [
        "svm = SVC()\n",
        "svm.fit(x_train_vectorized, y_train)"
      ],
      "metadata": {
        "id": "SKLUi4MaPR0j",
        "outputId": "ca7c253e-b195-4828-e68c-d961ce861b13",
        "colab": {
          "base_uri": "https://localhost:8080/",
          "height": 74
        }
      },
      "execution_count": 36,
      "outputs": [
        {
          "output_type": "execute_result",
          "data": {
            "text/plain": [
              "SVC()"
            ],
            "text/html": [
              "<style>#sk-container-id-1 {color: black;background-color: white;}#sk-container-id-1 pre{padding: 0;}#sk-container-id-1 div.sk-toggleable {background-color: white;}#sk-container-id-1 label.sk-toggleable__label {cursor: pointer;display: block;width: 100%;margin-bottom: 0;padding: 0.3em;box-sizing: border-box;text-align: center;}#sk-container-id-1 label.sk-toggleable__label-arrow:before {content: \"▸\";float: left;margin-right: 0.25em;color: #696969;}#sk-container-id-1 label.sk-toggleable__label-arrow:hover:before {color: black;}#sk-container-id-1 div.sk-estimator:hover label.sk-toggleable__label-arrow:before {color: black;}#sk-container-id-1 div.sk-toggleable__content {max-height: 0;max-width: 0;overflow: hidden;text-align: left;background-color: #f0f8ff;}#sk-container-id-1 div.sk-toggleable__content pre {margin: 0.2em;color: black;border-radius: 0.25em;background-color: #f0f8ff;}#sk-container-id-1 input.sk-toggleable__control:checked~div.sk-toggleable__content {max-height: 200px;max-width: 100%;overflow: auto;}#sk-container-id-1 input.sk-toggleable__control:checked~label.sk-toggleable__label-arrow:before {content: \"▾\";}#sk-container-id-1 div.sk-estimator input.sk-toggleable__control:checked~label.sk-toggleable__label {background-color: #d4ebff;}#sk-container-id-1 div.sk-label input.sk-toggleable__control:checked~label.sk-toggleable__label {background-color: #d4ebff;}#sk-container-id-1 input.sk-hidden--visually {border: 0;clip: rect(1px 1px 1px 1px);clip: rect(1px, 1px, 1px, 1px);height: 1px;margin: -1px;overflow: hidden;padding: 0;position: absolute;width: 1px;}#sk-container-id-1 div.sk-estimator {font-family: monospace;background-color: #f0f8ff;border: 1px dotted black;border-radius: 0.25em;box-sizing: border-box;margin-bottom: 0.5em;}#sk-container-id-1 div.sk-estimator:hover {background-color: #d4ebff;}#sk-container-id-1 div.sk-parallel-item::after {content: \"\";width: 100%;border-bottom: 1px solid gray;flex-grow: 1;}#sk-container-id-1 div.sk-label:hover label.sk-toggleable__label {background-color: #d4ebff;}#sk-container-id-1 div.sk-serial::before {content: \"\";position: absolute;border-left: 1px solid gray;box-sizing: border-box;top: 0;bottom: 0;left: 50%;z-index: 0;}#sk-container-id-1 div.sk-serial {display: flex;flex-direction: column;align-items: center;background-color: white;padding-right: 0.2em;padding-left: 0.2em;position: relative;}#sk-container-id-1 div.sk-item {position: relative;z-index: 1;}#sk-container-id-1 div.sk-parallel {display: flex;align-items: stretch;justify-content: center;background-color: white;position: relative;}#sk-container-id-1 div.sk-item::before, #sk-container-id-1 div.sk-parallel-item::before {content: \"\";position: absolute;border-left: 1px solid gray;box-sizing: border-box;top: 0;bottom: 0;left: 50%;z-index: -1;}#sk-container-id-1 div.sk-parallel-item {display: flex;flex-direction: column;z-index: 1;position: relative;background-color: white;}#sk-container-id-1 div.sk-parallel-item:first-child::after {align-self: flex-end;width: 50%;}#sk-container-id-1 div.sk-parallel-item:last-child::after {align-self: flex-start;width: 50%;}#sk-container-id-1 div.sk-parallel-item:only-child::after {width: 0;}#sk-container-id-1 div.sk-dashed-wrapped {border: 1px dashed gray;margin: 0 0.4em 0.5em 0.4em;box-sizing: border-box;padding-bottom: 0.4em;background-color: white;}#sk-container-id-1 div.sk-label label {font-family: monospace;font-weight: bold;display: inline-block;line-height: 1.2em;}#sk-container-id-1 div.sk-label-container {text-align: center;}#sk-container-id-1 div.sk-container {/* jupyter's `normalize.less` sets `[hidden] { display: none; }` but bootstrap.min.css set `[hidden] { display: none !important; }` so we also need the `!important` here to be able to override the default hidden behavior on the sphinx rendered scikit-learn.org. See: https://github.com/scikit-learn/scikit-learn/issues/21755 */display: inline-block !important;position: relative;}#sk-container-id-1 div.sk-text-repr-fallback {display: none;}</style><div id=\"sk-container-id-1\" class=\"sk-top-container\"><div class=\"sk-text-repr-fallback\"><pre>SVC()</pre><b>In a Jupyter environment, please rerun this cell to show the HTML representation or trust the notebook. <br />On GitHub, the HTML representation is unable to render, please try loading this page with nbviewer.org.</b></div><div class=\"sk-container\" hidden><div class=\"sk-item\"><div class=\"sk-estimator sk-toggleable\"><input class=\"sk-toggleable__control sk-hidden--visually\" id=\"sk-estimator-id-1\" type=\"checkbox\" checked><label for=\"sk-estimator-id-1\" class=\"sk-toggleable__label sk-toggleable__label-arrow\">SVC</label><div class=\"sk-toggleable__content\"><pre>SVC()</pre></div></div></div></div></div>"
            ]
          },
          "metadata": {},
          "execution_count": 36
        }
      ]
    },
    {
      "cell_type": "code",
      "source": [
        "SVMy_pred_test = svm.predict(x_test_vectorized)\n",
        "\n",
        "SVMy_pred_train = svm.predict(x_train_vectorized)"
      ],
      "metadata": {
        "id": "bMqxmR8wPUHv"
      },
      "execution_count": 37,
      "outputs": []
    },
    {
      "cell_type": "code",
      "source": [
        "from sklearn.metrics import accuracy_score, precision_score, recall_score, f1_score"
      ],
      "metadata": {
        "id": "5lhSZY5jbPtj"
      },
      "execution_count": 38,
      "outputs": []
    },
    {
      "cell_type": "code",
      "source": [
        "accuracy_SVM = accuracy_score(y_train, SVMy_pred_train)\n",
        "\n",
        "\n",
        "accuracy = accuracy_score(y_test, SVMy_pred_test)\n",
        "precision = precision_score(y_test, SVMy_pred_test, average='weighted')\n",
        "recall = recall_score(y_test, SVMy_pred_test, average='weighted')\n",
        "f1 = f1_score(y_test, SVMy_pred_test, average='weighted')\n",
        "\n",
        "print(\"SVM training Accuracy : \", accuracy_SVM)\n",
        "print(\"SVM testing Accuracy:\", accuracy)\n",
        "print(\"SVM precision : \", precision)\n",
        "print(\"SVM recall:\", recall)\n",
        "print(\"SVM f1-score:\", f1)\n",
        "print(\"SVM accuracy:\", accuracy)"
      ],
      "metadata": {
        "id": "cJ4bxW_iPWjl",
        "outputId": "57ffa418-7097-4b66-a8bb-f845ec6f66c7",
        "colab": {
          "base_uri": "https://localhost:8080/"
        }
      },
      "execution_count": 39,
      "outputs": [
        {
          "output_type": "stream",
          "name": "stdout",
          "text": [
            "SVM training Accuracy :  0.9862757330006239\n",
            "SVM testing Accuracy: 0.8453865336658354\n",
            "SVM precision :  0.8766433790402054\n",
            "SVM recall: 0.8453865336658354\n",
            "SVM f1-score: 0.8347538787400174\n",
            "SVM accuracy: 0.8453865336658354\n"
          ]
        }
      ]
    },
    {
      "cell_type": "code",
      "source": [
        "from sklearn.metrics import classification_report\n",
        "\n",
        "report_final= classification_report(y_test, SVMy_pred_test)\n",
        "\n",
        "print(\"Classification Report:\")\n",
        "print(report_final)"
      ],
      "metadata": {
        "id": "Rdbtf1v8Ka4_",
        "colab": {
          "base_uri": "https://localhost:8080/"
        },
        "outputId": "08ea68d6-b8e8-40f3-bdd1-b00450255fb5"
      },
      "execution_count": 40,
      "outputs": [
        {
          "output_type": "stream",
          "name": "stdout",
          "text": [
            "Classification Report:\n",
            "                                        precision    recall  f1-score   support\n",
            "\n",
            "                   الهيئة العامة للنقل       1.00      0.39      0.56        41\n",
            "                                  ساما       1.00      0.71      0.83        38\n",
            "                         وزارة التجارة       0.78      1.00      0.87       212\n",
            "وزارة الشؤون البلدية والقروية والإسكان       0.98      0.77      0.86       110\n",
            "\n",
            "                              accuracy                           0.85       401\n",
            "                             macro avg       0.94      0.72      0.78       401\n",
            "                          weighted avg       0.88      0.85      0.83       401\n",
            "\n"
          ]
        }
      ]
    },
    {
      "cell_type": "markdown",
      "source": [
        "# **Hyperparameter using GridSearch CV:**"
      ],
      "metadata": {
        "id": "7KfAf5DEDnGB"
      }
    },
    {
      "cell_type": "code",
      "source": [
        "svm.get_params()"
      ],
      "metadata": {
        "colab": {
          "base_uri": "https://localhost:8080/"
        },
        "id": "B9llNR9sDv4i",
        "outputId": "4dbd2d6b-fd99-483c-e475-b3d8fe347ac1"
      },
      "execution_count": 41,
      "outputs": [
        {
          "output_type": "execute_result",
          "data": {
            "text/plain": [
              "{'C': 1.0,\n",
              " 'break_ties': False,\n",
              " 'cache_size': 200,\n",
              " 'class_weight': None,\n",
              " 'coef0': 0.0,\n",
              " 'decision_function_shape': 'ovr',\n",
              " 'degree': 3,\n",
              " 'gamma': 'scale',\n",
              " 'kernel': 'rbf',\n",
              " 'max_iter': -1,\n",
              " 'probability': False,\n",
              " 'random_state': None,\n",
              " 'shrinking': True,\n",
              " 'tol': 0.001,\n",
              " 'verbose': False}"
            ]
          },
          "metadata": {},
          "execution_count": 41
        }
      ]
    },
    {
      "cell_type": "code",
      "source": [
        "from sklearn.model_selection import GridSearchCV\n",
        "\n",
        "param_grid = {\n",
        "    'C': [0.01, 0.1, 1, 10, 100],\n",
        "    'kernel': ['linear', 'rbf', 'poly'],\n",
        "    'gamma': [0.01, 0.1, 1, 10],\n",
        "    'class_weight': [None, 'balanced']\n",
        "}\n",
        "\n",
        "# Create the SVM model\n",
        "svm_model = SVC()\n",
        "\n",
        "# Perform grid search\n",
        "grid_search = GridSearchCV(estimator=svm_model, param_grid=param_grid, scoring='accuracy', cv=5)\n",
        "grid_search.fit(x_train_vectorized, y_train)"
      ],
      "metadata": {
        "id": "MwkRMN7IDzKT",
        "colab": {
          "base_uri": "https://localhost:8080/",
          "height": 117
        },
        "outputId": "08eccd10-5a33-4b88-cdbf-8e79e5abed5a"
      },
      "execution_count": 42,
      "outputs": [
        {
          "output_type": "execute_result",
          "data": {
            "text/plain": [
              "GridSearchCV(cv=5, estimator=SVC(),\n",
              "             param_grid={'C': [0.01, 0.1, 1, 10, 100],\n",
              "                         'class_weight': [None, 'balanced'],\n",
              "                         'gamma': [0.01, 0.1, 1, 10],\n",
              "                         'kernel': ['linear', 'rbf', 'poly']},\n",
              "             scoring='accuracy')"
            ],
            "text/html": [
              "<style>#sk-container-id-2 {color: black;background-color: white;}#sk-container-id-2 pre{padding: 0;}#sk-container-id-2 div.sk-toggleable {background-color: white;}#sk-container-id-2 label.sk-toggleable__label {cursor: pointer;display: block;width: 100%;margin-bottom: 0;padding: 0.3em;box-sizing: border-box;text-align: center;}#sk-container-id-2 label.sk-toggleable__label-arrow:before {content: \"▸\";float: left;margin-right: 0.25em;color: #696969;}#sk-container-id-2 label.sk-toggleable__label-arrow:hover:before {color: black;}#sk-container-id-2 div.sk-estimator:hover label.sk-toggleable__label-arrow:before {color: black;}#sk-container-id-2 div.sk-toggleable__content {max-height: 0;max-width: 0;overflow: hidden;text-align: left;background-color: #f0f8ff;}#sk-container-id-2 div.sk-toggleable__content pre {margin: 0.2em;color: black;border-radius: 0.25em;background-color: #f0f8ff;}#sk-container-id-2 input.sk-toggleable__control:checked~div.sk-toggleable__content {max-height: 200px;max-width: 100%;overflow: auto;}#sk-container-id-2 input.sk-toggleable__control:checked~label.sk-toggleable__label-arrow:before {content: \"▾\";}#sk-container-id-2 div.sk-estimator input.sk-toggleable__control:checked~label.sk-toggleable__label {background-color: #d4ebff;}#sk-container-id-2 div.sk-label input.sk-toggleable__control:checked~label.sk-toggleable__label {background-color: #d4ebff;}#sk-container-id-2 input.sk-hidden--visually {border: 0;clip: rect(1px 1px 1px 1px);clip: rect(1px, 1px, 1px, 1px);height: 1px;margin: -1px;overflow: hidden;padding: 0;position: absolute;width: 1px;}#sk-container-id-2 div.sk-estimator {font-family: monospace;background-color: #f0f8ff;border: 1px dotted black;border-radius: 0.25em;box-sizing: border-box;margin-bottom: 0.5em;}#sk-container-id-2 div.sk-estimator:hover {background-color: #d4ebff;}#sk-container-id-2 div.sk-parallel-item::after {content: \"\";width: 100%;border-bottom: 1px solid gray;flex-grow: 1;}#sk-container-id-2 div.sk-label:hover label.sk-toggleable__label {background-color: #d4ebff;}#sk-container-id-2 div.sk-serial::before {content: \"\";position: absolute;border-left: 1px solid gray;box-sizing: border-box;top: 0;bottom: 0;left: 50%;z-index: 0;}#sk-container-id-2 div.sk-serial {display: flex;flex-direction: column;align-items: center;background-color: white;padding-right: 0.2em;padding-left: 0.2em;position: relative;}#sk-container-id-2 div.sk-item {position: relative;z-index: 1;}#sk-container-id-2 div.sk-parallel {display: flex;align-items: stretch;justify-content: center;background-color: white;position: relative;}#sk-container-id-2 div.sk-item::before, #sk-container-id-2 div.sk-parallel-item::before {content: \"\";position: absolute;border-left: 1px solid gray;box-sizing: border-box;top: 0;bottom: 0;left: 50%;z-index: -1;}#sk-container-id-2 div.sk-parallel-item {display: flex;flex-direction: column;z-index: 1;position: relative;background-color: white;}#sk-container-id-2 div.sk-parallel-item:first-child::after {align-self: flex-end;width: 50%;}#sk-container-id-2 div.sk-parallel-item:last-child::after {align-self: flex-start;width: 50%;}#sk-container-id-2 div.sk-parallel-item:only-child::after {width: 0;}#sk-container-id-2 div.sk-dashed-wrapped {border: 1px dashed gray;margin: 0 0.4em 0.5em 0.4em;box-sizing: border-box;padding-bottom: 0.4em;background-color: white;}#sk-container-id-2 div.sk-label label {font-family: monospace;font-weight: bold;display: inline-block;line-height: 1.2em;}#sk-container-id-2 div.sk-label-container {text-align: center;}#sk-container-id-2 div.sk-container {/* jupyter's `normalize.less` sets `[hidden] { display: none; }` but bootstrap.min.css set `[hidden] { display: none !important; }` so we also need the `!important` here to be able to override the default hidden behavior on the sphinx rendered scikit-learn.org. See: https://github.com/scikit-learn/scikit-learn/issues/21755 */display: inline-block !important;position: relative;}#sk-container-id-2 div.sk-text-repr-fallback {display: none;}</style><div id=\"sk-container-id-2\" class=\"sk-top-container\"><div class=\"sk-text-repr-fallback\"><pre>GridSearchCV(cv=5, estimator=SVC(),\n",
              "             param_grid={&#x27;C&#x27;: [0.01, 0.1, 1, 10, 100],\n",
              "                         &#x27;class_weight&#x27;: [None, &#x27;balanced&#x27;],\n",
              "                         &#x27;gamma&#x27;: [0.01, 0.1, 1, 10],\n",
              "                         &#x27;kernel&#x27;: [&#x27;linear&#x27;, &#x27;rbf&#x27;, &#x27;poly&#x27;]},\n",
              "             scoring=&#x27;accuracy&#x27;)</pre><b>In a Jupyter environment, please rerun this cell to show the HTML representation or trust the notebook. <br />On GitHub, the HTML representation is unable to render, please try loading this page with nbviewer.org.</b></div><div class=\"sk-container\" hidden><div class=\"sk-item sk-dashed-wrapped\"><div class=\"sk-label-container\"><div class=\"sk-label sk-toggleable\"><input class=\"sk-toggleable__control sk-hidden--visually\" id=\"sk-estimator-id-2\" type=\"checkbox\" ><label for=\"sk-estimator-id-2\" class=\"sk-toggleable__label sk-toggleable__label-arrow\">GridSearchCV</label><div class=\"sk-toggleable__content\"><pre>GridSearchCV(cv=5, estimator=SVC(),\n",
              "             param_grid={&#x27;C&#x27;: [0.01, 0.1, 1, 10, 100],\n",
              "                         &#x27;class_weight&#x27;: [None, &#x27;balanced&#x27;],\n",
              "                         &#x27;gamma&#x27;: [0.01, 0.1, 1, 10],\n",
              "                         &#x27;kernel&#x27;: [&#x27;linear&#x27;, &#x27;rbf&#x27;, &#x27;poly&#x27;]},\n",
              "             scoring=&#x27;accuracy&#x27;)</pre></div></div></div><div class=\"sk-parallel\"><div class=\"sk-parallel-item\"><div class=\"sk-item\"><div class=\"sk-label-container\"><div class=\"sk-label sk-toggleable\"><input class=\"sk-toggleable__control sk-hidden--visually\" id=\"sk-estimator-id-3\" type=\"checkbox\" ><label for=\"sk-estimator-id-3\" class=\"sk-toggleable__label sk-toggleable__label-arrow\">estimator: SVC</label><div class=\"sk-toggleable__content\"><pre>SVC()</pre></div></div></div><div class=\"sk-serial\"><div class=\"sk-item\"><div class=\"sk-estimator sk-toggleable\"><input class=\"sk-toggleable__control sk-hidden--visually\" id=\"sk-estimator-id-4\" type=\"checkbox\" ><label for=\"sk-estimator-id-4\" class=\"sk-toggleable__label sk-toggleable__label-arrow\">SVC</label><div class=\"sk-toggleable__content\"><pre>SVC()</pre></div></div></div></div></div></div></div></div></div></div>"
            ]
          },
          "metadata": {},
          "execution_count": 42
        }
      ]
    },
    {
      "cell_type": "code",
      "source": [
        "# Get the best parameters and score\n",
        "best_params = grid_search.best_params_\n",
        "best_score = grid_search.best_score_\n",
        "\n",
        "print(\"Best Parameters:\", best_params)\n",
        "print(\"Best Score:\", best_score)"
      ],
      "metadata": {
        "id": "SjMuFT8aECAx",
        "colab": {
          "base_uri": "https://localhost:8080/"
        },
        "outputId": "f269b3a6-12b7-4c1a-a00f-891edf3bf2c3"
      },
      "execution_count": 43,
      "outputs": [
        {
          "output_type": "stream",
          "name": "stdout",
          "text": [
            "Best Parameters: {'C': 1, 'class_weight': 'balanced', 'gamma': 0.01, 'kernel': 'linear'}\n",
            "Best Score: 0.865255062305296\n"
          ]
        }
      ]
    },
    {
      "cell_type": "code",
      "source": [
        "SVM_tuned = SVC(C =1, class_weight= 'balanced', gamma= 0.01, kernel= 'linear')\n",
        "SVM_tuned.fit(x_train_vectorized, y_train)"
      ],
      "metadata": {
        "id": "QwFNyFGNEELF",
        "colab": {
          "base_uri": "https://localhost:8080/",
          "height": 74
        },
        "outputId": "a2ccf5c4-9a4b-4672-887e-f8a7b3548de3"
      },
      "execution_count": 44,
      "outputs": [
        {
          "output_type": "execute_result",
          "data": {
            "text/plain": [
              "SVC(C=1, class_weight='balanced', gamma=0.01, kernel='linear')"
            ],
            "text/html": [
              "<style>#sk-container-id-3 {color: black;background-color: white;}#sk-container-id-3 pre{padding: 0;}#sk-container-id-3 div.sk-toggleable {background-color: white;}#sk-container-id-3 label.sk-toggleable__label {cursor: pointer;display: block;width: 100%;margin-bottom: 0;padding: 0.3em;box-sizing: border-box;text-align: center;}#sk-container-id-3 label.sk-toggleable__label-arrow:before {content: \"▸\";float: left;margin-right: 0.25em;color: #696969;}#sk-container-id-3 label.sk-toggleable__label-arrow:hover:before {color: black;}#sk-container-id-3 div.sk-estimator:hover label.sk-toggleable__label-arrow:before {color: black;}#sk-container-id-3 div.sk-toggleable__content {max-height: 0;max-width: 0;overflow: hidden;text-align: left;background-color: #f0f8ff;}#sk-container-id-3 div.sk-toggleable__content pre {margin: 0.2em;color: black;border-radius: 0.25em;background-color: #f0f8ff;}#sk-container-id-3 input.sk-toggleable__control:checked~div.sk-toggleable__content {max-height: 200px;max-width: 100%;overflow: auto;}#sk-container-id-3 input.sk-toggleable__control:checked~label.sk-toggleable__label-arrow:before {content: \"▾\";}#sk-container-id-3 div.sk-estimator input.sk-toggleable__control:checked~label.sk-toggleable__label {background-color: #d4ebff;}#sk-container-id-3 div.sk-label input.sk-toggleable__control:checked~label.sk-toggleable__label {background-color: #d4ebff;}#sk-container-id-3 input.sk-hidden--visually {border: 0;clip: rect(1px 1px 1px 1px);clip: rect(1px, 1px, 1px, 1px);height: 1px;margin: -1px;overflow: hidden;padding: 0;position: absolute;width: 1px;}#sk-container-id-3 div.sk-estimator {font-family: monospace;background-color: #f0f8ff;border: 1px dotted black;border-radius: 0.25em;box-sizing: border-box;margin-bottom: 0.5em;}#sk-container-id-3 div.sk-estimator:hover {background-color: #d4ebff;}#sk-container-id-3 div.sk-parallel-item::after {content: \"\";width: 100%;border-bottom: 1px solid gray;flex-grow: 1;}#sk-container-id-3 div.sk-label:hover label.sk-toggleable__label {background-color: #d4ebff;}#sk-container-id-3 div.sk-serial::before {content: \"\";position: absolute;border-left: 1px solid gray;box-sizing: border-box;top: 0;bottom: 0;left: 50%;z-index: 0;}#sk-container-id-3 div.sk-serial {display: flex;flex-direction: column;align-items: center;background-color: white;padding-right: 0.2em;padding-left: 0.2em;position: relative;}#sk-container-id-3 div.sk-item {position: relative;z-index: 1;}#sk-container-id-3 div.sk-parallel {display: flex;align-items: stretch;justify-content: center;background-color: white;position: relative;}#sk-container-id-3 div.sk-item::before, #sk-container-id-3 div.sk-parallel-item::before {content: \"\";position: absolute;border-left: 1px solid gray;box-sizing: border-box;top: 0;bottom: 0;left: 50%;z-index: -1;}#sk-container-id-3 div.sk-parallel-item {display: flex;flex-direction: column;z-index: 1;position: relative;background-color: white;}#sk-container-id-3 div.sk-parallel-item:first-child::after {align-self: flex-end;width: 50%;}#sk-container-id-3 div.sk-parallel-item:last-child::after {align-self: flex-start;width: 50%;}#sk-container-id-3 div.sk-parallel-item:only-child::after {width: 0;}#sk-container-id-3 div.sk-dashed-wrapped {border: 1px dashed gray;margin: 0 0.4em 0.5em 0.4em;box-sizing: border-box;padding-bottom: 0.4em;background-color: white;}#sk-container-id-3 div.sk-label label {font-family: monospace;font-weight: bold;display: inline-block;line-height: 1.2em;}#sk-container-id-3 div.sk-label-container {text-align: center;}#sk-container-id-3 div.sk-container {/* jupyter's `normalize.less` sets `[hidden] { display: none; }` but bootstrap.min.css set `[hidden] { display: none !important; }` so we also need the `!important` here to be able to override the default hidden behavior on the sphinx rendered scikit-learn.org. See: https://github.com/scikit-learn/scikit-learn/issues/21755 */display: inline-block !important;position: relative;}#sk-container-id-3 div.sk-text-repr-fallback {display: none;}</style><div id=\"sk-container-id-3\" class=\"sk-top-container\"><div class=\"sk-text-repr-fallback\"><pre>SVC(C=1, class_weight=&#x27;balanced&#x27;, gamma=0.01, kernel=&#x27;linear&#x27;)</pre><b>In a Jupyter environment, please rerun this cell to show the HTML representation or trust the notebook. <br />On GitHub, the HTML representation is unable to render, please try loading this page with nbviewer.org.</b></div><div class=\"sk-container\" hidden><div class=\"sk-item\"><div class=\"sk-estimator sk-toggleable\"><input class=\"sk-toggleable__control sk-hidden--visually\" id=\"sk-estimator-id-5\" type=\"checkbox\" checked><label for=\"sk-estimator-id-5\" class=\"sk-toggleable__label sk-toggleable__label-arrow\">SVC</label><div class=\"sk-toggleable__content\"><pre>SVC(C=1, class_weight=&#x27;balanced&#x27;, gamma=0.01, kernel=&#x27;linear&#x27;)</pre></div></div></div></div></div>"
            ]
          },
          "metadata": {},
          "execution_count": 44
        }
      ]
    },
    {
      "cell_type": "code",
      "source": [
        "SVM_pred_train_tuned = SVM_tuned.predict(x_train_vectorized)\n",
        "SVM_pred_test_tuned = SVM_tuned.predict(x_test_vectorized)"
      ],
      "metadata": {
        "id": "1XyBfFANEHNf"
      },
      "execution_count": 45,
      "outputs": []
    },
    {
      "cell_type": "code",
      "source": [
        "from sklearn.metrics import accuracy_score, precision_score, recall_score, f1_score\n",
        "accuracy_SVM_tuned = accuracy_score(y_train, SVM_pred_train_tuned)\n",
        "accuracy = accuracy_score(y_test, SVM_pred_test_tuned)\n",
        "precision = precision_score(y_test, SVM_pred_test_tuned, average='weighted')\n",
        "recall = recall_score(y_test, SVM_pred_test_tuned, average='weighted')\n",
        "f1 = f1_score(y_test, SVM_pred_test_tuned, average='weighted')\n",
        "\n",
        "print(\"SVM stemmed training Accuracy : \", accuracy_SVM_tuned)\n",
        "print(\"SVM stemmed testing Accuracy:\", accuracy)\n",
        "print(\"SVM stemmed precision : \", precision)\n",
        "print(\"SVM stemmed recall:\", recall)\n",
        "print(\"SVM stemmed f1-score:\", f1)"
      ],
      "metadata": {
        "id": "FaRO2ajLEI7v",
        "colab": {
          "base_uri": "https://localhost:8080/"
        },
        "outputId": "41ecd702-419e-4fd9-9fbe-76b80ba76b32"
      },
      "execution_count": 46,
      "outputs": [
        {
          "output_type": "stream",
          "name": "stdout",
          "text": [
            "SVM stemmed training Accuracy :  0.9775421085464754\n",
            "SVM stemmed testing Accuracy: 0.885286783042394\n",
            "SVM stemmed precision :  0.8856241991199408\n",
            "SVM stemmed recall: 0.885286783042394\n",
            "SVM stemmed f1-score: 0.8850512396499027\n"
          ]
        }
      ]
    },
    {
      "cell_type": "code",
      "source": [
        "from sklearn.metrics import classification_report\n",
        "\n",
        "report_final= classification_report(y_test, SVM_pred_test_tuned)\n",
        "\n",
        "print(\"Classification Report:\")\n",
        "print(report_final)"
      ],
      "metadata": {
        "id": "tNfQ2VWcEKnS",
        "colab": {
          "base_uri": "https://localhost:8080/"
        },
        "outputId": "e1054cb8-3147-4623-98cc-e04dff594014"
      },
      "execution_count": 47,
      "outputs": [
        {
          "output_type": "stream",
          "name": "stdout",
          "text": [
            "Classification Report:\n",
            "                                        precision    recall  f1-score   support\n",
            "\n",
            "                   الهيئة العامة للنقل       0.78      0.76      0.77        41\n",
            "                                  ساما       0.94      0.87      0.90        38\n",
            "                         وزارة التجارة       0.89      0.92      0.90       212\n",
            "وزارة الشؤون البلدية والقروية والإسكان       0.91      0.87      0.89       110\n",
            "\n",
            "                              accuracy                           0.89       401\n",
            "                             macro avg       0.88      0.85      0.87       401\n",
            "                          weighted avg       0.89      0.89      0.89       401\n",
            "\n"
          ]
        }
      ]
    },
    {
      "cell_type": "markdown",
      "source": [
        "# **Testing the SVM  model**"
      ],
      "metadata": {
        "id": "iszCXI9o8wFW"
      }
    },
    {
      "cell_type": "code",
      "source": [
        "import unittest\n",
        "from sklearn.feature_extraction.text import TfidfVectorizer\n",
        "from sklearn.svm import SVC\n",
        "import traceback\n",
        "\n",
        "class TestAuthorityPredictor(unittest.TestCase):\n",
        "    def setUp(self):\n",
        "        # Initialize the vectorizer\n",
        "        self.vectorizer = TfidfVectorizer()\n",
        "        # Fit the vectorizer with raw text data\n",
        "        self.vectorizer.fit(x_train)\n",
        "        # Transform the raw text data to obtain the vectorized representation\n",
        "        self.x_train_vectorized = self.vectorizer.transform(x_train)\n",
        "        # Initialize the SVM model\n",
        "        self.model = SVC()\n",
        "        # Fit the SVM model with the vectorized training data and corresponding labels\n",
        "        self.model.fit(self.x_train_vectorized, y_train)\n",
        "\n",
        "\n",
        "    def test_predict_authority(self):\n",
        "        try:\n",
        "            # test case 1\n",
        "            random_ticket = 'هل يحق  لي استرجاع الطلب اذا كان المتجر الالكتروني و من سياسته عدم الاسترجاع ؟ علماً بان الطلب تفصيل وليس على المقاس'\n",
        "\n",
        "            # Vectorize the random ticket\n",
        "            random_ticket_vectorized = self.vectorizer.transform([random_ticket])\n",
        "\n",
        "            # Predict the authority\n",
        "            predicted_authority = self.model.predict(random_ticket_vectorized)\n",
        "\n",
        "            # Define expected authority\n",
        "            expected_authority = 'وزارة التجارة'\n",
        "\n",
        "            # Assert the predicted authority matches the expected authority\n",
        "            self.assertEqual(predicted_authority, expected_authority, f\"Predicted: {predicted_authority}, Expected: {expected_authority}\")\n",
        "            print(predicted_authority)\n",
        "\n",
        "\n",
        "        except Exception as e:\n",
        "            traceback.print_exc()\n",
        "            raise e\n",
        "\n",
        "\n",
        "if __name__ == '__main__':\n",
        "    unittest.main(argv=[''], exit=False)\n",
        ""
      ],
      "metadata": {
        "colab": {
          "base_uri": "https://localhost:8080/"
        },
        "id": "T6Nrw0YI5aN3",
        "outputId": "2fc230f3-3beb-4485-c968-15f76b0ade58"
      },
      "execution_count": 96,
      "outputs": [
        {
          "output_type": "stream",
          "name": "stderr",
          "text": [
            "..\n",
            "----------------------------------------------------------------------\n",
            "Ran 2 tests in 0.982s\n",
            "\n",
            "OK\n"
          ]
        },
        {
          "output_type": "stream",
          "name": "stdout",
          "text": [
            "['وزارة التجارة']\n"
          ]
        }
      ]
    },
    {
      "cell_type": "code",
      "source": [
        "import unittest\n",
        "from sklearn.feature_extraction.text import TfidfVectorizer\n",
        "from sklearn.svm import SVC\n",
        "import traceback\n",
        "\n",
        "class TestAuthorityPredictor(unittest.TestCase):\n",
        "    def setUp(self):\n",
        "        # Initialize the vectorizer\n",
        "        self.vectorizer = TfidfVectorizer()\n",
        "        # Fit the vectorizer with raw text data\n",
        "        self.vectorizer.fit(x_train)\n",
        "        # Transform the raw text data to obtain the vectorized representation\n",
        "        self.x_train_vectorized = self.vectorizer.transform(x_train)\n",
        "        # Initialize the SVM model\n",
        "        self.model = SVC()\n",
        "        # Fit the SVM model with the vectorized training data and corresponding labels\n",
        "        self.model.fit(self.x_train_vectorized, y_train)\n",
        "\n",
        "\n",
        "    def test_predict_authority(self):\n",
        "        try:\n",
        "            # test case 2\n",
        "            random_ticket = 'اسوء شركة شحن وادق عليهم يقولو ما عليكي رفعنا طلبك وكل يوم ادق ونفس الحل صارو الحين معد يردو'\n",
        "            # Vectorize the random ticket\n",
        "            random_ticket_vectorized = self.vectorizer.transform([random_ticket])\n",
        "\n",
        "            # Predict the authority\n",
        "            predicted_authority = self.model.predict(random_ticket_vectorized)\n",
        "\n",
        "            # Define expected authority\n",
        "            expected_authority = 'الهيئة العامة للنقل'\n",
        "\n",
        "            # Assert the predicted authority matches the expected authority\n",
        "            self.assertEqual(predicted_authority, expected_authority, f\"Predicted: {predicted_authority}, Expected: {expected_authority}\")\n",
        "            print(predicted_authority)\n",
        "\n",
        "\n",
        "        except Exception as e:\n",
        "            traceback.print_exc()\n",
        "            raise e\n",
        "\n",
        "\n",
        "if __name__ == '__main__':\n",
        "    unittest.main(argv=[''], exit=False)"
      ],
      "metadata": {
        "colab": {
          "base_uri": "https://localhost:8080/"
        },
        "id": "rn0XnN0RJuit",
        "outputId": "520355a6-3302-4e1f-9f2c-30bbc6122b13"
      },
      "execution_count": 97,
      "outputs": [
        {
          "output_type": "stream",
          "name": "stderr",
          "text": [
            "..\n",
            "----------------------------------------------------------------------\n",
            "Ran 2 tests in 0.963s\n",
            "\n",
            "OK\n"
          ]
        },
        {
          "output_type": "stream",
          "name": "stdout",
          "text": [
            "['الهيئة العامة للنقل']\n"
          ]
        }
      ]
    }
  ]
}